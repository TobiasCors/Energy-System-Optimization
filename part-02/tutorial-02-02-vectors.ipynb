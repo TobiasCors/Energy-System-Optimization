{
  "cells": [
    {
      "cell_type": "markdown",
      "metadata": {},
      "source": [
        "# Tutorial II.II - Vectors and Matrices\n",
        "\n",
        "Energy System Optimization with Julia\n",
        "\n",
        "# Introduction\n",
        "\n",
        "This interactive Julia script introduces the basics of vectors,\n",
        "matrices, and tuples.\n",
        "\n",
        "-   A vector is like a single row in a spreadsheet or a shopping list -\n",
        "    it stores items in a line\n",
        "-   A matrix is like a spreadsheet - it has rows and columns\n",
        "-   A tuple is like a sealed package containing different types of items\n",
        "\n",
        "Understanding these data structures and how to manipulate them is\n",
        "crucial in Julia. Follow the instructions, write your code in the\n",
        "designated code blocks, and execute the corresponding code cell.\n",
        "\n",
        "> **Note**\n",
        ">\n",
        "> If a cell is marked with `YOUR CODE BELOW`, you are expected to write\n",
        "> your code in that cell.\n",
        "\n",
        "# Section 1 - Vectors\n",
        "\n",
        "Vectors in Julia are one-dimensional arrays used to store sequences of\n",
        "elements. They’re powerful for numerical operations and data handling. A\n",
        "vector is the simplest way to store a list of items. Think of it as a\n",
        "row of boxes, where each box can hold a number or other type of data.\n",
        "Create vectors with square brackets, separate elements with commas."
      ],
      "id": "0b7025b9-b0d0-43d5-ae0f-543de252e859"
    },
    {
      "cell_type": "code",
      "execution_count": 1,
      "metadata": {},
      "outputs": [
        {
          "output_type": "display_data",
          "metadata": {},
          "data": {
            "text/plain": [
              "5-element Vector{Int64}:\n",
              " 95\n",
              " 87\n",
              " 91\n",
              " 78\n",
              " 88"
            ]
          }
        }
      ],
      "source": [
        "# Creating a simple vector (list) of numbers\n",
        "grades = [95, 87, 91, 78, 88]"
      ],
      "id": "2"
    },
    {
      "cell_type": "code",
      "execution_count": 1,
      "metadata": {},
      "outputs": [
        {
          "output_type": "display_data",
          "metadata": {},
          "data": {
            "text/plain": [
              "3-element Vector{String}:\n",
              " \"Mike\"\n",
              " \"Yola\"\n",
              " \"Elio\""
            ]
          }
        }
      ],
      "source": [
        "# Creating a vector of names\n",
        "students = [\"Mike\", \"Yola\", \"Elio\"]"
      ],
      "id": "4"
    },
    {
      "cell_type": "markdown",
      "metadata": {},
      "source": [
        "Vectors are mutable, and you can:\n",
        "\n",
        "-   Add items to the end (like adding to a shopping list):\n",
        "    `push!(grades, 82)`\n",
        "-   Remove the last item (like crossing off the last item):\n",
        "    `pop!(grades)`\n",
        "-   Remove the first item (like crossing off the first item):\n",
        "    `popfirst!(grades)`\n",
        "-   Look at specific items using their position number: `grades[1]`\n",
        "    gives you the first grade\n",
        "-   Access a range of items: `grades[1:3]` gives you the first three\n",
        "    grades\n",
        "\n",
        "> **Tip**\n",
        ">\n",
        "> In Julia, we start counting positions from 1, not 0. So `grades[1]`\n",
        "> gives you the first grade!\n",
        "\n",
        "Use ‘?’ in the REPL for function details.\n",
        "\n",
        "## Exercise 1.1 - Create a Vector\n",
        "\n",
        "Create a vector ‘fib’ with the first five Fibonacci numbers:\n",
        "`1, 1, 2, 3, 5`."
      ],
      "id": "7a722495-757a-49b0-9772-9d1210e24d9f"
    },
    {
      "cell_type": "code",
      "execution_count": 0,
      "metadata": {},
      "outputs": [],
      "source": [
        "# YOUR CODE BELOW\n"
      ],
      "id": "6"
    },
    {
      "cell_type": "code",
      "execution_count": 0,
      "metadata": {},
      "outputs": [],
      "source": [
        "# Test your answer\n",
        "@assert fib == [1, 1, 2, 3, 5]\n",
        "println(\"The 'fib' vector: \", fib)"
      ],
      "id": "8"
    },
    {
      "cell_type": "markdown",
      "metadata": {},
      "source": [
        "## Exercise 1.2 - Append to a Vector\n",
        "\n",
        "Append the number 8 to the `fib` vector."
      ],
      "id": "eb8cd34e-76a7-474c-8683-fcfc14d6a238"
    },
    {
      "cell_type": "code",
      "execution_count": 0,
      "metadata": {},
      "outputs": [],
      "source": [
        "# YOUR CODE BELOW\n"
      ],
      "id": "10"
    },
    {
      "cell_type": "code",
      "execution_count": 0,
      "metadata": {},
      "outputs": [],
      "source": [
        "# Test your answer\n",
        "@assert fib == [1, 1, 2, 3, 5, 8]\n",
        "println(\"The 'fib' vector after appending 8: \", fib)"
      ],
      "id": "12"
    },
    {
      "cell_type": "markdown",
      "metadata": {},
      "source": [
        "## Exercise 1.3 - Remove the First Element\n",
        "\n",
        "Remove the first element of the `fib` vector."
      ],
      "id": "d96fcd30-1e0f-4498-b493-7bf3681573e2"
    },
    {
      "cell_type": "code",
      "execution_count": 0,
      "metadata": {},
      "outputs": [],
      "source": [
        "# YOUR CODE BELOW\n"
      ],
      "id": "14"
    },
    {
      "cell_type": "code",
      "execution_count": 0,
      "metadata": {},
      "outputs": [],
      "source": [
        "# Test your answer\n",
        "@assert fib == [1, 2, 3, 5, 8]\n",
        "println(\"The 'fib' vector after removing the first element: \", fib)"
      ],
      "id": "16"
    },
    {
      "cell_type": "markdown",
      "metadata": {},
      "source": [
        "## Exercise 1.4 - Access and Save the First Three Elements\n",
        "\n",
        "Access and save the first three elements of `fib`, to\n",
        "`first_three_elements`."
      ],
      "id": "ca3fb94e-b235-4c53-a467-522110ee6c83"
    },
    {
      "cell_type": "code",
      "execution_count": 0,
      "metadata": {},
      "outputs": [],
      "source": [
        "# YOUR CODE BELOW\n"
      ],
      "id": "18"
    },
    {
      "cell_type": "code",
      "execution_count": 0,
      "metadata": {},
      "outputs": [],
      "source": [
        "# Test your answer\n",
        "@assert first_three_elements == fib[1:3]\n",
        "println(\"The first three elements of the 'fib' vector: \", first_three_elements)"
      ],
      "id": "20"
    },
    {
      "cell_type": "markdown",
      "metadata": {},
      "source": [
        "# Section 2 - Matrices\n",
        "\n",
        "A matrix in Julia is a 2D array, great for linear algebra and data\n",
        "representation. Create matrices with square brackets, separate elements\n",
        "with spaces, rows with semicolons. Access elements with square brackets\n",
        "(e.g., `matrix[2,2]`). You can add or substract matrices of the same\n",
        "dimensions element-wise if you add or substract them.\n",
        "\n",
        "For example:"
      ],
      "id": "76b7a84d-a3cc-49df-b28b-9764fd29c06e"
    },
    {
      "cell_type": "code",
      "execution_count": 1,
      "metadata": {},
      "outputs": [
        {
          "output_type": "stream",
          "name": "stdout",
          "text": [
            "matrix1 is [3 4; 6 7].\n",
            "matrix2 is [1 0; 0 -1]."
          ]
        }
      ],
      "source": [
        "matrix1 = [2 2; 3 3] + [1 2; 3 4]\n",
        "matrix2 = [2 2; 3 3] - [1 2; 3 4]\n",
        "println(\"matrix1 is $matrix1.\")\n",
        "println(\"matrix2 is $matrix2.\")"
      ],
      "id": "22"
    },
    {
      "cell_type": "markdown",
      "metadata": {},
      "source": [
        "If you want to perform multiplications, things are a bit different, as\n",
        "matrix multiplications are not performed element-wise!"
      ],
      "id": "004cac52-48a1-49ad-9723-c721820461a7"
    },
    {
      "cell_type": "code",
      "execution_count": 1,
      "metadata": {},
      "outputs": [
        {
          "output_type": "stream",
          "name": "stdout",
          "text": [
            "matrix3 is [8 12; 12 18]."
          ]
        }
      ],
      "source": [
        "matrix3 = [2 2; 3 3] * [1 2; 3 4]   # Not element-wise\n",
        "println(\"matrix3 is $matrix3.\")"
      ],
      "id": "24"
    },
    {
      "cell_type": "markdown",
      "metadata": {},
      "source": [
        "But we can change this by using broadcasting!\n",
        "\n",
        "> **Tip**\n",
        ">\n",
        "> Julia’s broadcasting feature allows you to apply functions\n",
        "> element-wise to arrays of different sizes. This is denoted by adding a\n",
        "> dot (.) before the operator or function. It is extremely useful for\n",
        "> performing operations on arrays without the need to loop through each\n",
        "> element."
      ],
      "id": "1f09f366-c2b5-40ce-9bba-ddb6db22e8a2"
    },
    {
      "cell_type": "code",
      "execution_count": 1,
      "metadata": {},
      "outputs": [
        {
          "output_type": "stream",
          "name": "stdout",
          "text": [
            "matrix4 is [2 3; 4 5]."
          ]
        }
      ],
      "source": [
        "matrix4 = [1 2; 3 4]\n",
        "matrix4 = matrix4 .+ 1\n",
        "println(\"matrix4 is $matrix4.\")"
      ],
      "id": "26"
    },
    {
      "cell_type": "markdown",
      "metadata": {},
      "source": [
        "We can also use this to perform element-wise multiplications, as shown\n",
        "below:"
      ],
      "id": "0269bcec-e1ea-439d-8b22-7cb7dd884360"
    },
    {
      "cell_type": "code",
      "execution_count": 1,
      "metadata": {},
      "outputs": [
        {
          "output_type": "stream",
          "name": "stdout",
          "text": [
            "matrix5 is [2 4; 9 12]."
          ]
        }
      ],
      "source": [
        "matrix5 = [2 2; 3 3] .* [1 2; 3 4]  # Element-wise\n",
        "println(\"matrix5 is $matrix5.\")"
      ],
      "id": "28"
    },
    {
      "cell_type": "markdown",
      "metadata": {},
      "source": [
        "## Exercise 2.1 - Create a Matrix\n",
        "\n",
        "Create a 2x3 matrix `my_matrix` with the values: `1 2 3; 4 5 6`."
      ],
      "id": "ed1ab15c-f15f-4e46-b693-f5417221c853"
    },
    {
      "cell_type": "code",
      "execution_count": 0,
      "metadata": {},
      "outputs": [],
      "source": [
        "# YOUR CODE BELOW\n"
      ],
      "id": "30"
    },
    {
      "cell_type": "code",
      "execution_count": 0,
      "metadata": {},
      "outputs": [],
      "source": [
        "# Test your answer\n",
        "@assert my_matrix == [1 2 3; 4 5 6]\n",
        "println(\"The 'my_matrix':\\n\", my_matrix)"
      ],
      "id": "32"
    },
    {
      "cell_type": "markdown",
      "metadata": {},
      "source": [
        "## Exercise 2.2 - Change the 3rd Column of the 2nd Row\n",
        "\n",
        "Change the 3rd column of the 2nd row to `17` by accessing and changing\n",
        "the element."
      ],
      "id": "88540ae8-1b9a-45f4-a0d5-410f01bf8673"
    },
    {
      "cell_type": "code",
      "execution_count": 0,
      "metadata": {},
      "outputs": [],
      "source": [
        "# YOUR CODE BELOW\n",
        "\n"
      ],
      "id": "34"
    },
    {
      "cell_type": "code",
      "execution_count": 0,
      "metadata": {},
      "outputs": [],
      "source": [
        "# Test your answer\n",
        "@assert my_matrix == [1 2 3; 4 5 17]\n",
        "println(\"The 'my_matrix' after modification:\\n\", my_matrix)"
      ],
      "id": "36"
    },
    {
      "cell_type": "markdown",
      "metadata": {},
      "source": [
        "## Exercise 2.3 - Perform Matrix Addition\n",
        "\n",
        "Perform matrix addition with `my_matrix` and `another_matrix`. Call the\n",
        "resulting matrix `added_matrices`."
      ],
      "id": "cc051242-aa09-4959-8bf6-c022ed665b5e"
    },
    {
      "cell_type": "code",
      "execution_count": 0,
      "metadata": {},
      "outputs": [],
      "source": [
        "another_matrix = [10 20 30; 40 50 60]\n",
        "# YOUR CODE BELOW\n"
      ],
      "id": "38"
    },
    {
      "cell_type": "code",
      "execution_count": 0,
      "metadata": {},
      "outputs": [],
      "source": [
        "# Test your answer\n",
        "@assert added_matrices == [11 22 33; 44 55 77]\n",
        "println(\"Result of adding 'my_matrix' and 'another_matrix':\\n\", added_matrices)"
      ],
      "id": "40"
    },
    {
      "cell_type": "markdown",
      "metadata": {},
      "source": [
        "## Exercise 2.4 - Add 10 to Each Element\n",
        "\n",
        "Add `10` to each element in `added_matrices`."
      ],
      "id": "0cde1966-6560-4758-a797-3de4013a88ff"
    },
    {
      "cell_type": "code",
      "execution_count": 0,
      "metadata": {},
      "outputs": [],
      "source": [
        "# YOUR CODE BELOW\n"
      ],
      "id": "42"
    },
    {
      "cell_type": "code",
      "execution_count": 0,
      "metadata": {},
      "outputs": [],
      "source": [
        "# Test your answer\n",
        "@assert added_matrices == [21 32 43; 54 65 87]\n",
        "println(\"Result of adding 10 to each element in 'added_matrices':\\n\", added_matrices)"
      ],
      "id": "44"
    },
    {
      "cell_type": "markdown",
      "metadata": {},
      "source": [
        "# Section 3: Tuples\n",
        "\n",
        "A tuple is like a sealed package - once you create it, you can’t change\n",
        "what’s inside. That’s why we call it “immutable”. It’s perfect for\n",
        "grouping related items that shouldn’t change. For example:\n",
        "\n",
        "``` julia\n",
        "# A person's basic info that won't change\n",
        "person = (\"Elio Smith\", 18, \"Hamburg\")\n",
        "\n",
        "# RGB color values\n",
        "red = (255, 0, 0)\n",
        "```\n",
        "\n",
        "Think of tuples as permanent labels - once you write them, they can’t be\n",
        "changed. This is useful when you want to make sure data stays exactly as\n",
        "you set it.\n",
        "\n",
        "## Exercise 3.1 - Create a Tuple\n",
        "\n",
        "Create a tuple `my_tuple` with three elements: `4.0`, your matrix\n",
        "`added_matrices`, and `\"Hi there!\"`."
      ],
      "id": "368e8d20-cff2-4f06-89b5-96172b0b93e3"
    },
    {
      "cell_type": "code",
      "execution_count": 0,
      "metadata": {},
      "outputs": [],
      "source": [
        "# YOUR CODE BELOW\n"
      ],
      "id": "46"
    },
    {
      "cell_type": "code",
      "execution_count": 0,
      "metadata": {},
      "outputs": [],
      "source": [
        "# Test your answer\n",
        "@assert my_tuple == (4.0, added_matrices, \"Hi there!\")\n",
        "println(\"The 'my_tuple': \", my_tuple)"
      ],
      "id": "48"
    },
    {
      "cell_type": "markdown",
      "metadata": {},
      "source": [
        "## Exercise 3.2 - Access the Second Element\n",
        "\n",
        "Access the second element of `my_tuple`, store it in `second_element`."
      ],
      "id": "e21d1c95-fd3b-4721-bbe8-7d765bed3720"
    },
    {
      "cell_type": "code",
      "execution_count": 0,
      "metadata": {},
      "outputs": [],
      "source": [
        "# YOUR CODE BELOW\n"
      ],
      "id": "50"
    },
    {
      "cell_type": "code",
      "execution_count": 0,
      "metadata": {},
      "outputs": [],
      "source": [
        "# Test your answer\n",
        "@assert second_element == [21 32 43; 54 65 87]\n",
        "println(\"The second element of 'my_tuple':\\n\", second_element)"
      ],
      "id": "52"
    },
    {
      "cell_type": "markdown",
      "metadata": {},
      "source": [
        "# Conclusion\n",
        "\n",
        "Well done! You’ve completed the tutorial on Vectors, Matrices, and\n",
        "Tuples. You’ve learned to create, manipulate, and interact with these\n",
        "fundamental data structures. Experiment with the code, try different\n",
        "operations, and see how Julia behaves. Continue to the next file to\n",
        "learn more.\n",
        "\n",
        "# Solutions\n",
        "\n",
        "You will likely find solutions to most exercises online. However, I\n",
        "strongly encourage you to work on these exercises independently without\n",
        "searching explicitly for the exact answers to the exercises.\n",
        "Understanding someone else’s solution is very different from developing\n",
        "your own. Use the lecture notes and try to solve the exercises on your\n",
        "own. This approach will significantly enhance your learning and\n",
        "problem-solving skills.\n",
        "\n",
        "Remember, the goal is not just to complete the exercises, but to\n",
        "understand the concepts and improve your programming abilities. If you\n",
        "encounter difficulties, review the lecture materials, experiment with\n",
        "different approaches, and don’t hesitate to ask for clarification during\n",
        "class discussions.\n",
        "\n",
        "Later, you will find the solutions to these exercises online in the\n",
        "associated GitHub repository, but we will also quickly go over them in\n",
        "next week’s tutorial. To access the solutions, click on the Github\n",
        "button on the lower right and search for the folder with today’s lecture\n",
        "and tutorial. Alternatively, you can ask ChatGPT or Claude to explain\n",
        "them to you. But please remember, the goal is not just to complete the\n",
        "exercises, but to understand the concepts and improve your programming\n",
        "abilities."
      ],
      "id": "d11b58bf-0200-47dd-bf4d-e596e2d3b11b"
    }
  ],
  "nbformat": 4,
  "nbformat_minor": 5,
  "metadata": {
    "kernel_info": {
      "name": "julia"
    },
    "kernelspec": {
      "name": "julia",
      "display_name": "Julia",
      "language": "julia"
    },
    "language_info": {
      "name": "julia",
      "codemirror_mode": "julia",
      "version": "1.11.5"
    }
  }
}