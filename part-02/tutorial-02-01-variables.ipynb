{
  "cells": [
    {
      "cell_type": "markdown",
      "metadata": {},
      "source": [
        "# Tutorial II.I - Variables and Types\n",
        "\n",
        "Energy System Optimization with Julia\n",
        "\n",
        "# Introduction\n",
        "\n",
        "Welcome to this interactive Julia tutorial which introduces the basics\n",
        "of variables and types. Understanding variables and their types is\n",
        "crucial as they are the building blocks of any program. They determine\n",
        "how data is stored, manipulated, and how efficiently your code runs.\n",
        "\n",
        "This script is designed to be interactive. Follow the instructions,\n",
        "write your code in the designated code blocks, and then execute the\n",
        "corresponding code. Each exercise is followed by an `@assert` statement\n",
        "that checks your solution.\n",
        "\n",
        "There are two ways to run the code:\n",
        "\n",
        "1.  The easiest way to run the code is by using VS Code. First, install\n",
        "    the Julia and the Jupyter Extension. Then, you can open the\n",
        "    downloaded `.ipynb` files and run the code from there.\n",
        "\n",
        "2.  The second way is by using IJulia. Start Julia, and type\n",
        "    `using IJulia; notebook()` in the Julia prompt. This will open a new\n",
        "    browser window where you can run the code. If you have not installed\n",
        "    IJulia yet, you can do so by typing `]` in the Julia prompt to open\n",
        "    the package manager, and then installing IJulia by typing\n",
        "    `add IJulia`.\n",
        "\n",
        "> **Note**\n",
        ">\n",
        "> Always replace ‘YOUR CODE BELOW’ with your actual code.\n",
        "\n",
        "# Section 1 - Variables\n",
        "\n",
        "Think of variables as labeled containers. Just like you might label a\n",
        "box “Books” to store books, in programming we label our data with\n",
        "variable names. For example:"
      ],
      "id": "9c381b04-48d2-45e1-bb8a-0e259de1fa0c"
    },
    {
      "cell_type": "code",
      "execution_count": 1,
      "metadata": {},
      "outputs": [
        {
          "output_type": "display_data",
          "metadata": {},
          "data": {
            "text/plain": [
              "30"
            ]
          }
        }
      ],
      "source": [
        "age = 30        # A box labeled \"age\" containing the number 30"
      ],
      "id": "2"
    },
    {
      "cell_type": "code",
      "execution_count": 1,
      "metadata": {},
      "outputs": [
        {
          "output_type": "display_data",
          "metadata": {},
          "data": {
            "text/plain": [
              "\"Tobias\""
            ]
          }
        }
      ],
      "source": [
        "name = \"Tobias\"  # A box labeled \"name\" containing the text \"Tobias\""
      ],
      "id": "4"
    },
    {
      "cell_type": "markdown",
      "metadata": {},
      "source": [
        "## Exercise 1.1 - Declare a Variable\n",
        "\n",
        "Declare a variable named `x` and assign it the value `1`."
      ],
      "id": "96b6bcdd-9761-4082-875f-629d4c8139aa"
    },
    {
      "cell_type": "code",
      "execution_count": 0,
      "metadata": {},
      "outputs": [],
      "source": [
        "# YOUR CODE BELOW\n"
      ],
      "id": "6"
    },
    {
      "cell_type": "code",
      "execution_count": 0,
      "metadata": {},
      "outputs": [],
      "source": [
        "# Test your answer\n",
        "@assert x == 1 \"Check again, the value of x should be 1. Remember to assign the value directly to x.\"\n",
        "println(\"Great, you have correctly assigned the value $x to the variable 'x'.\")"
      ],
      "id": "8"
    },
    {
      "cell_type": "markdown",
      "metadata": {},
      "source": [
        "## Exercise 1.2 - Declare a String Variable\n",
        "\n",
        "Declare a variable named `hi` and assign it the string\n",
        "`\"Hello, Optimization!\"`."
      ],
      "id": "89022ef2-ced9-4387-aea9-bbe9641f7a0a"
    },
    {
      "cell_type": "code",
      "execution_count": 0,
      "metadata": {},
      "outputs": [],
      "source": [
        "# YOUR CODE BELOW"
      ],
      "id": "10"
    },
    {
      "cell_type": "code",
      "execution_count": 0,
      "metadata": {},
      "outputs": [],
      "source": [
        "# Test your answer\n",
        "@assert hi == \"Hello, Optimization!\" \"Make sure the variable 'hi' contains the exact string \\\"Hello, Optimization\\\"!\"\n",
        "println(\"Good, the variable 'hi' now states \\\"$hi\\\".\")"
      ],
      "id": "12"
    },
    {
      "cell_type": "markdown",
      "metadata": {},
      "source": [
        "# Section 2 - Basic Types\n",
        "\n",
        "Just like real containers come in different types (like boxes for books,\n",
        "refrigerators for food, etc.), variables in Julia have different types\n",
        "depending on what they store:\n",
        "\n",
        "-   Integers (Int): Whole numbers like `1`, `42`, `-10`\n",
        "-   Floats (Float64): Numbers with decimal points like `3.14`, `-0.5`\n",
        "-   Booleans (Bool): True/false values like `true`, `false`\n",
        "-   Strings (String): Text in quotes like `\"Hello\"`\n",
        "\n",
        "You can check what type of “container” a variable is using `typeof()`.\n",
        "Try this:"
      ],
      "id": "af195cbe-ee52-423b-a8c0-35b159894ba8"
    },
    {
      "cell_type": "code",
      "execution_count": 1,
      "metadata": {},
      "outputs": [
        {
          "output_type": "display_data",
          "metadata": {},
          "data": {
            "text/plain": [
              "Int64"
            ]
          }
        }
      ],
      "source": [
        "age = 25\n",
        "typeof(age)     # Will show Int64 (integer type)"
      ],
      "id": "14"
    },
    {
      "cell_type": "code",
      "execution_count": 1,
      "metadata": {},
      "outputs": [
        {
          "output_type": "display_data",
          "metadata": {},
          "data": {
            "text/plain": [
              "Float64"
            ]
          }
        }
      ],
      "source": [
        "price = 19.99\n",
        "typeof(price)   # Will show Float64 (decimal number type)"
      ],
      "id": "16"
    },
    {
      "cell_type": "markdown",
      "metadata": {},
      "source": [
        "## Exercise 2.1 - Create an Integer Variable\n",
        "\n",
        "Create an Integer variable `answerUniverse` and set it to `42`."
      ],
      "id": "8fade0e1-40dd-4c2e-a515-a213effa8a1a"
    },
    {
      "cell_type": "code",
      "execution_count": 0,
      "metadata": {},
      "outputs": [],
      "source": [
        "# YOUR CODE BELOW\n"
      ],
      "id": "18"
    },
    {
      "cell_type": "code",
      "execution_count": 0,
      "metadata": {},
      "outputs": [],
      "source": [
        "# Test your answer\n",
        "@assert answerUniverse == 42 \"The variable 'answerUniverse' should hold 42.\"\n",
        "println(\"Great, the answer to all questions on the universe is $answerUniverse now.\")"
      ],
      "id": "20"
    },
    {
      "cell_type": "markdown",
      "metadata": {},
      "source": [
        "## Exercise 2.2 - Create a Float Variable\n",
        "\n",
        "Create a Float variable `money` and set it to `1.35`."
      ],
      "id": "67c7364f-8ee2-4864-9785-a89d47f158d2"
    },
    {
      "cell_type": "code",
      "execution_count": 0,
      "metadata": {},
      "outputs": [],
      "source": [
        "# YOUR CODE BELOW\n"
      ],
      "id": "22"
    },
    {
      "cell_type": "code",
      "execution_count": 0,
      "metadata": {},
      "outputs": [],
      "source": [
        "# Test your answer\n",
        "@assert money == 1.35 \"The variable 'money' should hold the Float64 1.35.\"\n",
        "println(\"Perfect, the you have stored $money in the variable 'money'.\")"
      ],
      "id": "24"
    },
    {
      "cell_type": "markdown",
      "metadata": {},
      "source": [
        "## Exercise 2.3 - Create a Boolean Variable\n",
        "\n",
        "Create a Boolean variable `isStudent` and set it to `true`."
      ],
      "id": "2b0d70bc-7174-45f2-a107-da9bb5c6cae4"
    },
    {
      "cell_type": "code",
      "execution_count": 0,
      "metadata": {},
      "outputs": [],
      "source": [
        "# YOUR CODE BELOW\n"
      ],
      "id": "26"
    },
    {
      "cell_type": "code",
      "execution_count": 0,
      "metadata": {},
      "outputs": [],
      "source": [
        "# Test your answer\n",
        "@assert isStudent == true \"The variable 'isStudent' should be set to true.\"\n",
        "println(\"Correct, you are a student now.\")"
      ],
      "id": "28"
    },
    {
      "cell_type": "markdown",
      "metadata": {},
      "source": [
        "# Section 3 - Type Annotations and Inference\n",
        "\n",
        "Sometimes we want to specify exactly what kind of “container” we want to\n",
        "use. In Julia, we can do this using type annotations:"
      ],
      "id": "f1ae1ba7-9d87-425f-afbd-00a6bcaa6a73"
    },
    {
      "cell_type": "code",
      "execution_count": 1,
      "metadata": {},
      "outputs": [
        {
          "output_type": "display_data",
          "metadata": {},
          "data": {
            "text/plain": [
              "98.6"
            ]
          }
        }
      ],
      "source": [
        "temperature::Float64 = 98.6    # Specifically saying we want a decimal number"
      ],
      "id": "30"
    },
    {
      "cell_type": "code",
      "execution_count": 1,
      "metadata": {},
      "outputs": [
        {
          "output_type": "display_data",
          "metadata": {},
          "data": {
            "text/plain": [
              "100"
            ]
          }
        }
      ],
      "source": [
        "count::Int64 = 100            # Specifically saying we want a whole number"
      ],
      "id": "32"
    },
    {
      "cell_type": "markdown",
      "metadata": {},
      "source": [
        "## Exercise 3.1 - Type Annotation\n",
        "\n",
        "Declare a variable `y` with an explicit type annotation of `Int64` and\n",
        "assign it the value `5`."
      ],
      "id": "8b5c0d3b-5de7-4eec-9c0d-670cfbf221de"
    },
    {
      "cell_type": "code",
      "execution_count": 0,
      "metadata": {},
      "outputs": [],
      "source": [
        "# YOUR CODE BELOW\n"
      ],
      "id": "34"
    },
    {
      "cell_type": "code",
      "execution_count": 0,
      "metadata": {},
      "outputs": [],
      "source": [
        "# Test your answer\n",
        "@assert y == 5 && typeof(y) == Int64 \"Make sure 'y' is of type Int64 and has the value 5.\"\n",
        "println(\"Great! You've created an Int64 variable 'y' with the value $y.\")"
      ],
      "id": "36"
    },
    {
      "cell_type": "markdown",
      "metadata": {},
      "source": [
        "# Section 4 - String Interpolation\n",
        "\n",
        "String interpolation is like filling in blanks in a sentence. Instead of\n",
        "writing:"
      ],
      "id": "ef4f1ccf-7d7c-4ea1-9059-17dde68824bd"
    },
    {
      "cell_type": "code",
      "execution_count": 1,
      "metadata": {},
      "outputs": [
        {
          "output_type": "display_data",
          "metadata": {},
          "data": {
            "text/plain": [
              "\"My name is Tobias and I am 34 years old\""
            ]
          }
        }
      ],
      "source": [
        "name = \"Tobias\"\n",
        "age = 34\n",
        "# The hard way:\n",
        "message = \"My name is \" * name * \" and I am \" * string(age) * \" years old\""
      ],
      "id": "38"
    },
    {
      "cell_type": "markdown",
      "metadata": {},
      "source": [
        "We can use the `$` symbol to insert variables directly into our text:"
      ],
      "id": "36393ec7-f37a-4563-94c1-cde409507c09"
    },
    {
      "cell_type": "code",
      "execution_count": 1,
      "metadata": {},
      "outputs": [
        {
          "output_type": "display_data",
          "metadata": {},
          "data": {
            "text/plain": [
              "\"My name is Tobias and I am 34 years old\""
            ]
          }
        }
      ],
      "source": [
        "message = \"My name is $name and I am $age years old\""
      ],
      "id": "40"
    },
    {
      "cell_type": "markdown",
      "metadata": {},
      "source": [
        "It’s like having a template where Julia automatically fills in the\n",
        "values for you! If you have paid attention to the previous excercise,\n",
        "you have already seen this in action. The following example illustrates\n",
        "this again:"
      ],
      "id": "95b51add-5676-4937-b133-abd60df3f5fa"
    },
    {
      "cell_type": "code",
      "execution_count": 1,
      "metadata": {},
      "outputs": [
        {
          "output_type": "stream",
          "name": "stdout",
          "text": [
            "I'm learning Julia"
          ]
        }
      ],
      "source": [
        "language = \"Julia\"\n",
        "println(\"I'm learning $language\")"
      ],
      "id": "42"
    },
    {
      "cell_type": "markdown",
      "metadata": {},
      "source": [
        "## Exercise 4.1 - String Interpolation\n",
        "\n",
        "Create a string `message` that says `\"y is [value of y]\"` using string\n",
        "interpolation."
      ],
      "id": "809bdb6c-a980-4ff9-9a1a-5562c1543160"
    },
    {
      "cell_type": "code",
      "execution_count": 0,
      "metadata": {},
      "outputs": [],
      "source": [
        "# YOUR CODE BELOW\n"
      ],
      "id": "44"
    },
    {
      "cell_type": "code",
      "execution_count": 0,
      "metadata": {},
      "outputs": [],
      "source": [
        "# Test your answer\n",
        "@assert message == \"y is 5\" \"Make sure your string includes the correct value of y.\"\n",
        "println(\"Excellent! Your interpolated string is: $message\")"
      ],
      "id": "46"
    },
    {
      "cell_type": "markdown",
      "metadata": {},
      "source": [
        "# Conclusion\n",
        "\n",
        "Congratulations! You have completed the first tutorial on Variables and\n",
        "Types. You’ve learned about the basics of variables, integers, floats,\n",
        "booleans, and strings. Continue to the next file to learn more.\n",
        "\n",
        "# Solutions\n",
        "\n",
        "You will likely find solutions to most exercises online. However, I\n",
        "strongly encourage you to work on these exercises independently without\n",
        "searching explicitly for the exact answers to the exercises.\n",
        "Understanding someone else’s solution is very different from developing\n",
        "your own. Use the lecture notes and try to solve the exercises on your\n",
        "own. This approach will significantly enhance your learning and\n",
        "problem-solving skills.\n",
        "\n",
        "Remember, the goal is not just to complete the exercises, but to\n",
        "understand the concepts and improve your programming abilities. If you\n",
        "encounter difficulties, review the lecture materials, experiment with\n",
        "different approaches, and don’t hesitate to ask for clarification during\n",
        "class discussions.\n",
        "\n",
        "Later, you will find the solutions to these exercises online in the\n",
        "associated GitHub repository, but we will also quickly go over them in\n",
        "next week’s tutorial. To access the solutions, click on the Github\n",
        "button on the lower right and search for the folder with today’s lecture\n",
        "and tutorial. Alternatively, you can ask ChatGPT or Claude to explain\n",
        "them to you. But please remember, the goal is not just to complete the\n",
        "exercises, but to understand the concepts and improve your programming\n",
        "abilities."
      ],
      "id": "b87f7dda-5a6d-4f87-85c7-22eef5026d96"
    }
  ],
  "nbformat": 4,
  "nbformat_minor": 5,
  "metadata": {
    "kernel_info": {
      "name": "julia"
    },
    "kernelspec": {
      "name": "julia",
      "display_name": "Julia",
      "language": "julia"
    },
    "language_info": {
      "name": "julia",
      "codemirror_mode": "julia",
      "version": "1.11.5"
    }
  }
}