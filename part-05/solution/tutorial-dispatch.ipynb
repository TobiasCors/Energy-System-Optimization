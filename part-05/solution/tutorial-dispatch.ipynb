{
  "cells": [
    {
      "cell_type": "markdown",
      "id": "574ff3e2-303e-49f9-90dc-447026ddca52",
      "metadata": {},
      "source": [
        "# Tutorial V - Economic Dispatch Problem\n",
        "\n",
        "Energy System Optimization with Julia\n",
        "\n",
        "# 1. Modelling the ED problem\n",
        "\n",
        "Implement the ED problem from the lecture in Julia. Before we start,\n",
        "let’s load the necessary packages and data."
      ]
    },
    {
      "cell_type": "code",
      "execution_count": 1,
      "id": "4",
      "metadata": {},
      "outputs": [],
      "source": [
        "using JuMP, HiGHS\n",
        "using CSV\n",
        "#using DelimitedFiles\n",
        "using DataFrames\n",
        "using Plots\n",
        "#using StatsPlots\n",
        "#import Pkg; Pkg.add(\"PlotlyBase\")\n",
        "#plotly() # This will create interactive plots later on"
      ]
    },
    {
      "cell_type": "markdown",
      "id": "dc84ce59-6cd6-4c62-94ba-df18c1c135be",
      "metadata": {},
      "source": [
        "> **Tip**\n",
        ">\n",
        "> If you haven’t installed the packages yet, you can do so by running\n",
        "> `using Pkg` first and then `Pkg.add(\"JuMP\")`, `Pkg.add(\"HiGHS\")`,\n",
        "> `Pkg.add(\"DataFrames\")`, `Pkg.add(\"Plots\")`, and\n",
        "> `Pkg.add(\"StatsPlots\")`.\n",
        "\n",
        "Now, let’s load the data. The generator data\n",
        "($p^{\\min}_g, p^{\\max}_g, c^{var}_g, c^{fix}_g$), $c^{fix}_g$ being\n",
        "fixed cost not used in the ED, the wind data ($c^{var}_w$), and the\n",
        "scenario data ($p^f_w, d^f$) are provided as CSV files."
      ]
    },
    {
      "cell_type": "code",
      "execution_count": 1,
      "id": "6",
      "metadata": {},
      "outputs": [
        {
          "name": "stdout",
          "output_type": "stream",
          "text": [
            "Number of generator: 6\n",
            "First 5 rows of available genrator:\n",
            "5×5 DataFrame\n",
            " Row │ name     min_power  max_power  variable_cost  fix_cost \n",
            "     │ String3  Int64      Int64      Int64          Int64    \n",
            "─────┼────────────────────────────────────────────────────────\n",
            "   1 │ G1             100        500             50      1000\n",
            "   2 │ G2              50        350             60      1200\n",
            "   3 │ G3              40        250             55      1300\n",
            "   4 │ G4              30        200             70      1500\n",
            "   5 │ G5              30        200             60      1500"
          ]
        }
      ],
      "source": [
        "# Get the directory of the current file\n",
        "file_directory = \"$(@__DIR__)/data\"\n",
        "\n",
        "# Load the data of the thermal generators\n",
        "generators = CSV.read(\"$file_directory/generator.csv\", DataFrame)\n",
        "println(\"Number of generator: $(nrow(generators))\")\n",
        "println(\"First 5 rows of available genrator:\")\n",
        "println(generators[1:5, :])"
      ]
    },
    {
      "cell_type": "code",
      "execution_count": 10,
      "id": "8",
      "metadata": {},
      "outputs": [
        {
          "name": "stdout",
          "output_type": "stream",
          "text": [
            "Number of wind turbines: 1\n",
            "Variable cost per wind turbine:\n",
            "\u001b[1m1×2 DataFrame\u001b[0m\n",
            "\u001b[1m Row \u001b[0m│\u001b[1m name    \u001b[0m\u001b[1m var_cost \u001b[0m\n",
            "     │\u001b[90m String3 \u001b[0m\u001b[90m Int64    \u001b[0m\n",
            "─────┼───────────────────\n",
            "   1 │ T1             50\n"
          ]
        }
      ],
      "source": [
        "# Load the data of the wind turbines\n",
        "windTurbines = CSV.read(\"$file_directory/windTurbine.csv\", DataFrame)\n",
        "println(\"Number of wind turbines: $(nrow(windTurbines))\")\n",
        "println(\"Variable cost per wind turbine:\")\n",
        "println(windTurbines)"
      ]
    },
    {
      "cell_type": "code",
      "execution_count": 11,
      "id": "10",
      "metadata": {},
      "outputs": [
        {
          "name": "stdout",
          "output_type": "stream",
          "text": [
            "First 5 rows of sceanios:\n",
            "\u001b[1m5×3 DataFrame\u001b[0m\n",
            "\u001b[1m Row \u001b[0m│\u001b[1m name    \u001b[0m\u001b[1m wind_forecast \u001b[0m\u001b[1m demand_forecast \u001b[0m\n",
            "     │\u001b[90m String3 \u001b[0m\u001b[90m Int64         \u001b[0m\u001b[90m Int64           \u001b[0m\n",
            "─────┼─────────────────────────────────────────\n",
            "   1 │ S1                1000             1500\n",
            "   2 │ S2                1000             1600\n",
            "   3 │ S3                1000             1400\n",
            "   4 │ S4                1000             1300\n",
            "   5 │ S5                1000             1000\n"
          ]
        }
      ],
      "source": [
        "# Load the sceanrio data about the demand and wind forecast\n",
        "scenarios = CSV.read(\"$file_directory/scenario.csv\", DataFrame)\n",
        "println(\"First 5 rows of sceanios:\")\n",
        "println(scenarios[1:5, :])"
      ]
    },
    {
      "cell_type": "markdown",
      "id": "2ddd8afe-b0db-4ada-b8d5-149025ba3cf8",
      "metadata": {},
      "source": [
        "Next, you need to prepare the given data for the model. We will use\n",
        "‘function’ to create a ‘Named Tuple’ which we can access with the dot\n",
        "notation:"
      ]
    },
    {
      "cell_type": "code",
      "execution_count": 12,
      "id": "12",
      "metadata": {},
      "outputs": [
        {
          "name": "stdout",
          "output_type": "stream",
          "text": [
            "50\n"
          ]
        }
      ],
      "source": [
        "# This function creates the Named Tuple ThermalGenerator\n",
        "function ThermalGenerator(\n",
        "    min::Int64,\n",
        "    max::Int64,\n",
        "    fixed_cost::Int64,\n",
        "    variable_cost::Int64,\n",
        ")\n",
        "    return (\n",
        "        min = min,\n",
        "        max = max,\n",
        "        fixed_cost = fixed_cost,\n",
        "        variable_cost = variable_cost,\n",
        "    )\n",
        "end\n",
        "\n",
        "# Add generators of the data to a dictionary of the generators\n",
        "dictThermalGeneartors = Dict(row.name => ThermalGenerator(row.min_power, row.max_power, row.fix_cost, row.variable_cost) for row in eachrow(generators))\n",
        "\n",
        "# Now a generator propety can be accessed\n",
        "println(dictThermalGeneartors[\"G1\"].variable_cost)"
      ]
    },
    {
      "cell_type": "markdown",
      "id": "7b3b3b7c-c2b8-4ef8-af27-7e926c80e823",
      "metadata": {},
      "source": [
        "Analogously create a dictionary for the wind turbines and scenarios.\n",
        "Call them `dictWindTurbines` and `dictScenarios`."
      ]
    },
    {
      "cell_type": "markdown",
      "id": "e4c5ec5f",
      "metadata": {},
      "source": []
    },
    {
      "cell_type": "code",
      "execution_count": null,
      "id": "14",
      "metadata": {},
      "outputs": [
        {
          "name": "stdout",
          "output_type": "stream",
          "text": [
            "50\n",
            "1000\n"
          ]
        }
      ],
      "source": [
        "# YOUR CODE BELOW\n",
        "# This function creates the Named Tuple WindGenerator\n",
        "function WindTurbine(\n",
        "    variable_cost::Int64,\n",
        ")\n",
        "    return (\n",
        "        variable_cost = variable_cost,\n",
        "    )\n",
        "end\n",
        "# This function creates the Named Tuple Scenario\n",
        "function Scenario(\n",
        "    wind_forecast::Int64,\n",
        "    demand_forecast::Int64,\n",
        ")\n",
        "    return (\n",
        "        wind_forecast = wind_forecast,\n",
        "        demand_forecast = demand_forecast,\n",
        "    )\n",
        "end\n",
        "\n",
        "# Add generators of the data to a dictionary of the dict\n",
        "dictWindTurbines = Dict(row.name => WindTurbine(row.var_cost) for row in eachrow(windTurbines))\n",
        "dictScenarios = Dict(row.name => Scenario(row.wind_forecast, row.demand_forecast) for row in eachrow(scenarios))\n",
        "\n",
        "# Now a generator propety can be accessed\n",
        "println(dictWindTurbines[\"T1\"].variable_cost)\n",
        "println(dictScenarios[\"S1\"].wind_forecast)\n"
      ]
    },
    {
      "cell_type": "code",
      "execution_count": 21,
      "id": "16",
      "metadata": {},
      "outputs": [],
      "source": [
        "# Validate your solution\n",
        "@assert length(dictThermalGeneartor) == nrow(generators) \"Available time dictionary should have same length as input data\"\n",
        "@assert length(dictWindTurbines) == nrow(windTurbines) \"Available time dictionary should have same length as input data\"\n",
        "@assert length(dictScenarios) == nrow(scenarios) \"Bottling time dictionary should have same length as input data\"\n",
        "\n",
        "# Check that all values are positive\n",
        "@assert all(v -> all(x -> x >= 0, [v.min, v.max, v.fixed_cost, v.variable_cost]), values(dictThermalGeneartor)) \"All thermal generator values must be positive\"\n",
        "@assert all(v -> v.variable_cost >= 0, values(dictWindTurbines)) \"All wind turbine values must be positive\"\n",
        "@assert all(v -> all(x -> x >= 0, [v.wind_forecast, v.demand_forecast]), values(dictScenarios)) \"All scenario values must be positive\"\n",
        "\n",
        "# Check that dictionaries contain all expected keys\n",
        "@assert all(p -> haskey(dictThermalGeneartor, p), generators.name) \"Missing names in dictionary\"\n",
        "@assert all(b -> haskey(dictWindTurbines, b), windTurbines.name) \"Missing names in dictionary\"\n",
        "@assert all(b -> haskey(dictScenarios, b), scenarios.name) \"Missing names in dictionary\""
      ]
    },
    {
      "cell_type": "markdown",
      "id": "eca94559-b3ff-4539-bf14-e04e571235c6",
      "metadata": {},
      "source": [
        "Next, we define the model instance for the ED problem."
      ]
    },
    {
      "cell_type": "code",
      "execution_count": 22,
      "id": "18",
      "metadata": {},
      "outputs": [
        {
          "data": {
            "text/plain": [
              "A JuMP Model\n",
              "├ solver: HiGHS\n",
              "├ objective_sense: FEASIBILITY_SENSE\n",
              "├ num_variables: 0\n",
              "├ num_constraints: 0\n",
              "└ Names registered in the model: none"
            ]
          },
          "execution_count": 22,
          "metadata": {},
          "output_type": "execute_result"
        }
      ],
      "source": [
        "# Prepare the model instance\n",
        "dispatchModel = Model(HiGHS.Optimizer)\n"
      ]
    },
    {
      "cell_type": "markdown",
      "id": "b1625107-1472-4c2e-be73-23e1ce4bbbd0",
      "metadata": {},
      "source": [
        "Now, create your variables. Please name them `p_g` for the power output\n",
        "of generators, `p_w` for the power injection of wind turbines.\n",
        "\n",
        "> **Note**\n",
        ">\n",
        "> Consider the bounds for these variables. First, we only want to solve\n",
        "> the model for sceanrio “S1”."
      ]
    },
    {
      "cell_type": "code",
      "execution_count": 29,
      "id": "20",
      "metadata": {},
      "outputs": [
        {
          "data": {
            "text/plain": [
              "1-dimensional DenseAxisArray{VariableRef,1,...} with index sets:\n",
              "    Dimension 1, String3[\"T1\"]\n",
              "And data, a 1-element Vector{VariableRef}:\n",
              " p_w[T1]"
            ]
          },
          "execution_count": 29,
          "metadata": {},
          "output_type": "execute_result"
        }
      ],
      "source": [
        "# YOUR CODE BELOW\n",
        "# Create variables for thermal generator power output with bounds\n",
        "p_g = @variable(dispatchModel, [g in keys(dictThermalGeneartor)], \n",
        "    lower_bound = dictThermalGeneartor[g].min,\n",
        "    upper_bound = dictThermalGeneartor[g].max,\n",
        "    base_name = \"p_g\")\n",
        "\n",
        "# Create variables for wind turbine power output with bounds\n",
        "# Wind power is bounded by the forecast for scenario S1\n",
        "p_w = @variable(dispatchModel, [w in keys(dictWindTurbines)],\n",
        "    lower_bound = 0,\n",
        "    upper_bound = dictScenarios[\"S1\"].wind_forecast,\n",
        "    base_name = \"p_w\")\n",
        "\n"
      ]
    },
    {
      "cell_type": "code",
      "execution_count": 32,
      "id": "22",
      "metadata": {},
      "outputs": [],
      "source": [
        "# Validate your solution\n",
        "# Check if variables exist in the model\n",
        "#@assert haskey(dispatchModel.obj_dict, :p_g) \"p_g variable not found in model\"\n",
        "#@assert haskey(dispatchModel.obj_dict, :p_w) \"p_w variable not found in model\"\n",
        "\n",
        "# Check variable dimensions\n",
        "@assert length(p_g) == length(dictThermalGeneartor) \"Incorrect dimensions for p_g\"\n",
        "@assert length(p_w) == length(dictWindTurbines) \"Incorrect dimensions for p_w\"\n",
        "\n",
        "# Check variable types\n",
        "@assert all(x -> is_valid(dispatchModel, x), p_g) \"p_g must be valid variables\"\n",
        "@assert all(x -> is_valid(dispatchModel, x), p_w) \"p_w must be valid variables\""
      ]
    },
    {
      "cell_type": "markdown",
      "id": "a3cc02cb-eb83-4b01-8fda-86fcf9a902d6",
      "metadata": {},
      "source": [
        "Next, define the objective function."
      ]
    },
    {
      "cell_type": "code",
      "execution_count": 33,
      "id": "24",
      "metadata": {},
      "outputs": [
        {
          "data": {
            "text/latex": [
              "$ 55 p\\_g_{G3} + 60 p\\_g_{G5} + 70 p\\_g_{G4} + 50 p\\_g_{G1} + 60 p\\_g_{G2} + 100 p\\_g_{G6} + 50 p\\_w_{T1} $"
            ],
            "text/plain": [
              "55 p_g[G3] + 60 p_g[G5] + 70 p_g[G4] + 50 p_g[G1] + 60 p_g[G2] + 100 p_g[G6] + 50 p_w[T1]"
            ]
          },
          "execution_count": 33,
          "metadata": {},
          "output_type": "execute_result"
        }
      ],
      "source": [
        "# YOUR CODE BELOW\n",
        "# Define objective function: minimize total generation costs\n",
        "@objective(dispatchModel, Min,\n",
        "    # Thermal generator costs\n",
        "    sum(dictThermalGeneartor[g].variable_cost * p_g[g] for g in keys(dictThermalGeneartor)) +\n",
        "    # Wind turbine costs  \n",
        "    sum(dictWindTurbines[w].variable_cost * p_w[w] for w in keys(dictWindTurbines))\n",
        ")\n"
      ]
    },
    {
      "cell_type": "code",
      "execution_count": 34,
      "id": "26",
      "metadata": {},
      "outputs": [],
      "source": [
        "# Validate your solution\n",
        "# Check if the model has an objective\n",
        "@assert objective_function(dispatchModel) !== nothing \"Model must have an objective function\"\n",
        "\n",
        "# Check if it's a minimization problem\n",
        "@assert objective_sense(dispatchModel) == MOI.MIN_SENSE \"Objective should be minimization\"\n",
        "\n",
        "# Check if the objective function contains both cost components\n",
        "obj_expr = objective_function(dispatchModel)\n",
        "@assert contains(string(dispatchModel), \"p_g\") \"Objective must include variable costs (p_g)\"\n",
        "@assert contains(string(dispatchModel), \"p_w\") \"Objective must include variable costs (p_w)\""
      ]
    },
    {
      "cell_type": "markdown",
      "id": "7b218358-5737-4da6-a07c-534b54700230",
      "metadata": {},
      "source": [
        "Now, we need to define all necessary constraints for the model, which is\n",
        "only the demand/production balance constraint as we considered min and\n",
        "max power limitations in the variable setup."
      ]
    },
    {
      "cell_type": "code",
      "execution_count": 38,
      "id": "28",
      "metadata": {},
      "outputs": [
        {
          "data": {
            "text/latex": [
              "$$ p\\_g_{G3} + p\\_g_{G5} + p\\_g_{G4} + p\\_g_{G1} + p\\_g_{G2} + p\\_g_{G6} + p\\_w_{T1} = 1500 $$"
            ],
            "text/plain": [
              "p_g[G3] + p_g[G5] + p_g[G4] + p_g[G1] + p_g[G2] + p_g[G6] + p_w[T1] = 1500"
            ]
          },
          "execution_count": 38,
          "metadata": {},
          "output_type": "execute_result"
        }
      ],
      "source": [
        "# YOUR CODE BELOW\n",
        "# Power balance constraint: total generation equals demand for scenario S1\n",
        "@constraint(dispatchModel, \n",
        "    sum(p_g[g] for g in keys(dictThermalGeneartor)) + \n",
        "    sum(p_w[w] for w in keys(dictWindTurbines)) == \n",
        "    dictScenarios[\"S1\"].demand_forecast\n",
        ")\n"
      ]
    },
    {
      "cell_type": "markdown",
      "id": "19dc7a33-67f2-4fce-8798-d336c4266d2c",
      "metadata": {},
      "source": [
        "Finally, implement the solve statement for your model instance and print\n",
        "the results."
      ]
    },
    {
      "cell_type": "code",
      "execution_count": 39,
      "id": "30",
      "metadata": {},
      "outputs": [
        {
          "name": "stdout",
          "output_type": "stream",
          "text": [
            "Running HiGHS 1.9.0 (git hash: 66f735e60): Copyright (c) 2024 HiGHS under MIT licence terms\n",
            "Coefficient ranges:\n",
            "  Matrix [1e+00, 1e+00]\n",
            "  Cost   [5e+01, 1e+02]\n",
            "  Bound  [3e+01, 1e+03]\n",
            "  RHS    [2e+03, 2e+03]\n",
            "Presolving model\n",
            "1 rows, 7 cols, 7 nonzeros  0s\n",
            "1 rows, 5 cols, 5 nonzeros  0s\n",
            "0 rows, 0 cols, 0 nonzeros  0s\n",
            "Presolve : Reductions: rows 0(-1); columns 0(-14); elements 0(-7) - Reduced to empty\n",
            "Solving the original LP from the solution after postsolve\n",
            "Model status        : Optimal\n",
            "Objective value     :  7.6600000000e+04\n",
            "Relative P-D gap    :  0.0000000000e+00\n",
            "HiGHS run time      :          0.00\n",
            "Optimal objective value: $76600.0\n",
            "\n",
            "Generator dispatch (MW):\n",
            "G3: 40.0\n",
            "G5: 30.0\n",
            "G4: 30.0\n",
            "G1: 350.0\n",
            "G2: 50.0\n",
            "G6: 0.0\n",
            "\n",
            "Wind turbine dispatch (MW):\n",
            "T1: 1000.0\n",
            "\n",
            "Wind curtailment (MW):\n",
            "T1: 0.0\n"
          ]
        }
      ],
      "source": [
        "# YOUR CODE BELOW\n",
        "# Solve the model\n",
        "optimize!(dispatchModel)\n",
        "\n",
        "# Print results\n",
        "println(\"Optimal objective value: EUR \", objective_value(dispatchModel))\n",
        "println(\"\\nGenerator dispatch (MW):\")\n",
        "for g in keys(dictThermalGeneartor)\n",
        "    println(\"$g: \", value(p_g[g]))\n",
        "end\n",
        "\n",
        "println(\"\\nWind turbine dispatch (MW):\")\n",
        "for w in keys(dictWindTurbines)\n",
        "    println(\"$w: \", value(p_w[w]))\n",
        "end\n",
        "\n",
        "println(\"\\nWind curtailment (MW):\")\n",
        "for w in keys(dictWindTurbines)\n",
        "    println(\"$w: \", dictScenarios[\"S1\"].wind_forecast - value(p_w[w]))\n",
        "end\n"
      ]
    },
    {
      "cell_type": "code",
      "execution_count": 40,
      "id": "32",
      "metadata": {},
      "outputs": [],
      "source": [
        "# Validate your solution\n",
        "@assert objective_value(dispatchModel) == 76600 \"Objective value should be between 76600\""
      ]
    },
    {
      "cell_type": "markdown",
      "id": "656de507-e780-43fd-a108-83c2beea7255",
      "metadata": {},
      "source": [
        "# 2. Solving scenarios of the ED problem\n",
        "\n",
        "We now want to solve all sceanrios. To do so we wrap the model in a\n",
        "function that we then can call with different inputs.\n",
        "\n",
        "> **Note**\n",
        ">\n",
        "> Copy your model into the function. The results should be stored in the\n",
        "> dataframe."
      ]
    },
    {
      "cell_type": "code",
      "execution_count": 43,
      "id": "34",
      "metadata": {},
      "outputs": [
        {
          "name": "stdout",
          "output_type": "stream",
          "text": [
            "\n",
            "Results for all scenarios:\n",
            "\u001b[1m5×3 DataFrame\u001b[0m\n",
            "\u001b[1m Row \u001b[0m│\u001b[1m scenario \u001b[0m\u001b[1m total_cost \u001b[0m\u001b[1m wind_curtailment \u001b[0m\n",
            "     │\u001b[90m String   \u001b[0m\u001b[90m Float64    \u001b[0m\u001b[90m Float64          \u001b[0m\n",
            "─────┼────────────────────────────────────────\n",
            "   1 │ S4           66600.0               0.0\n",
            "   2 │ S5           51600.0             250.0\n",
            "   3 │ S1           76600.0               0.0\n",
            "   4 │ S3           71600.0               0.0\n",
            "   5 │ S2           81600.0              50.0\n"
          ]
        }
      ],
      "source": [
        "# Create a function `solve_economic_dispatch`, which solves the economic\n",
        "# dispatch problem for a given set of input parameters.\n",
        "\n",
        "function solve_economic_dispatch(dictThermalGeneartor::Dict, dictWindTurbines::Dict, scenario)\n",
        "    ## Define the economic dispatch (ED) model\n",
        "    dispatchModel = Model(HiGHS.Optimizer)\n",
        "    set_silent(dispatchModel)\n",
        "    ## Define decision variables\n",
        "    ## p_g power output of generators - short form syntax\n",
        "    @variable(dispatchModel, dictThermalGeneartor[g].min <= p_g[g in keys(dictThermalGeneartor)] <= dictThermalGeneartor[g].max)\n",
        "    \n",
        "    ## p_w wind power injection - short form syntax\n",
        "    @variable(dispatchModel, 0 <= p_w[w in keys(dictWindTurbines)] <= scenario.wind_forecast)\n",
        "\n",
        "    ## Define the objective function \n",
        "    @objective(\n",
        "        dispatchModel,\n",
        "        Min,\n",
        "        sum(dictThermalGeneartor[g].variable_cost * p_g[g] for g in keys(dictThermalGeneartor)) +\n",
        "        sum(dictWindTurbines[w].variable_cost * p_w[w] for w in keys(dictWindTurbines))\n",
        "    )\n",
        "  \n",
        "    ## Define the power balance constraint\n",
        "    @constraint(\n",
        "        dispatchModel,\n",
        "        sum(p_g[g] for g in keys(dictThermalGeneartor)) + \n",
        "        sum(p_w[w] for w in keys(dictWindTurbines)) == scenario.demand_forecast\n",
        "    )\n",
        "    \n",
        "    ## Solve statement\n",
        "    optimize!(dispatchModel)\n",
        "    assert_is_solved_and_feasible(dispatchModel)\n",
        "\n",
        "    ## return the optimal value of the objective function and variables\n",
        "    return (\n",
        "        p_g = value.(p_g),\n",
        "        p_w = value.(p_w),\n",
        "        wind_curtailment = scenario.wind_forecast - sum(value.(p_w)),\n",
        "        total_cost = objective_value(dispatchModel),\n",
        "    )\n",
        "end\n",
        "\n",
        "# Create a dataframe to store results\n",
        "results_df = DataFrame(\n",
        "    scenario = String[],\n",
        "    total_cost = Float64[],\n",
        "    wind_curtailment = Float64[]\n",
        ")\n",
        "\n",
        "# Loop over the scenarios and save the results to a dataframe\n",
        "for (scenario_name, scenario_data) in dictScenarios\n",
        "    solution = solve_economic_dispatch(dictThermalGeneartor, dictWindTurbines, scenario_data)\n",
        "    push!(results_df, (scenario_name, solution.total_cost, solution.wind_curtailment))\n",
        "end\n",
        "\n",
        "# Print the dataframe\n",
        "println(\"\\nResults for all scenarios:\")\n",
        "println(results_df)\n"
      ]
    },
    {
      "cell_type": "markdown",
      "id": "b6abbdee-13f4-46c1-83e1-d5e4e13e70e5",
      "metadata": {},
      "source": [
        "What is the problem in scenario “S5” with the assumptions made in the ED\n",
        "problem leading to an inefficient usage of wind turbines?"
      ]
    },
    {
      "cell_type": "code",
      "execution_count": 0,
      "id": "36",
      "metadata": {},
      "outputs": [],
      "source": [
        "# YOUR ANSWER HERE\n",
        "# In scenario \"S5\", there are two main issues:\n",
        "# 1. The wind forecast is very high (2000 MW) but the demand is relatively low (1000 MW). \n",
        "#    The economic dispatch model treats wind power like any other generator and curtails the excess wind \n",
        "#    power since there is no way to store it. This leads to significant wind curtailment.\n",
        "# 2. Due to the minimum power constraints of thermal generators (lower bounds of p_g), about 250 MW \n",
        "#    of thermal generation must always run even though it's more expensive than wind power. This \n",
        "#    forces us to curtail even more wind power and leads to higher system costs than necessary.\n",
        "# A more sophisticated model could include energy storage, consider selling excess power to neighboring\n",
        "# regions, or allow for complete shutdown of thermal units (unit commitment) to make better use of the available wind resources.\n",
        "# This will be covered in the next lectures. The unit commitement problem with multiple timesteps and storages is introduced.\n",
        "\n"
      ]
    },
    {
      "cell_type": "markdown",
      "id": "95959b8b-1290-4f01-957d-921b8c465ff4",
      "metadata": {},
      "source": [
        "------------------------------------------------------------------------\n",
        "\n",
        "# Solutions\n",
        "\n",
        "You will likely find solutions to most exercises online. However, I\n",
        "strongly encourage you to work on these exercises independently without\n",
        "searching explicitly for the exact answers to the exercises.\n",
        "Understanding someone else’s solution is very different from developing\n",
        "your own. Use the lecture notes and try to solve the exercises on your\n",
        "own. This approach will significantly enhance your learning and\n",
        "problem-solving skills.\n",
        "\n",
        "Remember, the goal is not just to complete the exercises, but to\n",
        "understand the concepts and improve your programming abilities. If you\n",
        "encounter difficulties, review the lecture materials, experiment with\n",
        "different approaches, and don’t hesitate to ask for clarification during\n",
        "class discussions.\n",
        "\n",
        "Later, you will find the solutions to these exercises online in the\n",
        "associated GitHub repository, but we will also quickly go over them in\n",
        "next week’s tutorial. To access the solutions, click on the Github\n",
        "button on the lower right and search for the folder with today’s lecture\n",
        "and tutorial. Alternatively, you can ask ChatGPT or Claude to explain\n",
        "them to you. But please remember, the goal is not just to complete the\n",
        "exercises, but to understand the concepts and improve your programming\n",
        "abilities."
      ]
    }
  ],
  "metadata": {
    "kernel_info": {
      "name": "julia"
    },
    "kernelspec": {
      "display_name": "Julia",
      "language": "julia",
      "name": "julia"
    },
    "language_info": {
      "codemirror_mode": "julia",
      "name": "julia",
      "version": "1.11.2"
    }
  },
  "nbformat": 4,
  "nbformat_minor": 5
}
