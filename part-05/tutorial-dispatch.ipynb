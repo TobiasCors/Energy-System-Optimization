{
  "cells": [
    {
      "cell_type": "markdown",
      "metadata": {},
      "source": [
        "# Tutorial V - Economic Dispatch Problem\n",
        "\n",
        "Energy System Optimization with Julia\n",
        "\n",
        "# 1. Modelling the ED problem\n",
        "\n",
        "Implement the ED problem from the lecture in Julia. Before we start,\n",
        "let’s load the necessary packages and data."
      ],
      "id": "de36c4a1-9078-4691-b23e-b330c4c0cb2f"
    },
    {
      "cell_type": "code",
      "execution_count": 1,
      "metadata": {},
      "outputs": [],
      "source": [
        "using JuMP, HiGHS\n",
        "using CSV\n",
        "using DataFrames\n",
        "using Plots"
      ],
      "id": "4"
    },
    {
      "cell_type": "markdown",
      "metadata": {},
      "source": [
        "> **Tip**\n",
        ">\n",
        "> If you haven’t installed the packages yet, you can do so by running\n",
        "> `using Pkg` first and then `Pkg.add(\"JuMP\")`, `Pkg.add(\"HiGHS\")`,\n",
        "> `Pkg.add(\"DataFrames\")`, `Pkg.add(\"Plots\")`, and\n",
        "> `Pkg.add(\"StatsPlots\")`.\n",
        "\n",
        "Now, let’s load the data. The generator data\n",
        "($p^{\\min}_g, p^{\\max}_g, c^{var}_g, c^{fix}_g$), $c^{fix}_g$ being\n",
        "fixed cost not used in the ED, the wind data ($c^{var}_w$), and the\n",
        "scenario data ($p^f_w, d^f$) are provided as CSV files."
      ],
      "id": "b4a4bf0e-6813-4916-ac64-31b340007861"
    },
    {
      "cell_type": "code",
      "execution_count": 1,
      "metadata": {},
      "outputs": [],
      "source": [
        "# Get the directory of the current file\n",
        "file_directory = \"$(@__DIR__)/data\"\n",
        "\n",
        "# Load the data of the thermal generators\n",
        "generators = CSV.read(\"$file_directory/generator.csv\", DataFrame)\n",
        "println(\"Number of generator: $(nrow(generators))\")\n",
        "println(\"First 5 rows of available genrator:\")\n",
        "println(generators[1:5, :])"
      ],
      "id": "6"
    },
    {
      "cell_type": "code",
      "execution_count": 1,
      "metadata": {},
      "outputs": [],
      "source": [
        "# Load the data of the wind turbines\n",
        "windTurbines = CSV.read(\"$file_directory/windTurbine.csv\", DataFrame)\n",
        "println(\"Number of wind turbines: $(nrow(windTurbines))\")\n",
        "println(\"Variable cost per wind turbine:\")\n",
        "println(windTurbines)"
      ],
      "id": "8"
    },
    {
      "cell_type": "code",
      "execution_count": 1,
      "metadata": {},
      "outputs": [],
      "source": [
        "# Load the sceanrio data about the demand and wind forecast\n",
        "scenarios = CSV.read(\"$file_directory/scenario.csv\", DataFrame)\n",
        "println(\"First 5 rows of sceanios:\")\n",
        "println(scenarios[1:5, :])"
      ],
      "id": "10"
    },
    {
      "cell_type": "markdown",
      "metadata": {},
      "source": [
        "Next, you need to prepare the given data for the model. We will use\n",
        "‘function’ to create a ‘Named Tuple’ which we can access with the dot\n",
        "notation:"
      ],
      "id": "458c8245-1258-428d-bca3-eb7e6168b0c2"
    },
    {
      "cell_type": "code",
      "execution_count": 0,
      "metadata": {},
      "outputs": [],
      "source": [
        "# This function creates the Named Tuple ThermalGenerator\n",
        "function ThermalGenerator(\n",
        "    min::Int64,\n",
        "    max::Int64,\n",
        "    fixed_cost::Int64,\n",
        "    variable_cost::Int64,\n",
        ")\n",
        "    return (\n",
        "        min = min,\n",
        "        max = max,\n",
        "        fixed_cost = fixed_cost,\n",
        "        variable_cost = variable_cost,\n",
        "    )\n",
        "end\n",
        "\n",
        "# Add generators of the data to a dictionary of the generators\n",
        "dictThermalGeneartors = Dict(row.name => ThermalGenerator(row.min_power, row.max_power, row.fix_cost, row.variable_cost) for row in eachrow(generators))\n",
        "\n",
        "# Now a generator propety can be accessed\n",
        "println(dictThermalGeneartors[\"G1\"].variable_cost)"
      ],
      "id": "12"
    },
    {
      "cell_type": "markdown",
      "metadata": {},
      "source": [
        "Analogously create a dictionary for the wind turbines and scenarios.\n",
        "Call them `dictWindTurbines` and `dictScenarios`."
      ],
      "id": "7f7157a2-4866-4aa6-9214-3aa9df302a13"
    },
    {
      "cell_type": "code",
      "execution_count": 0,
      "metadata": {},
      "outputs": [],
      "source": [
        "# YOUR CODE BELOW\n",
        "\n"
      ],
      "id": "14"
    },
    {
      "cell_type": "code",
      "execution_count": 0,
      "metadata": {},
      "outputs": [],
      "source": [
        "# Validate your solution\n",
        "@assert length(dictThermalGeneartors) == nrow(generators) \"Available time dictionary should have same length as input data\"\n",
        "@assert length(dictWindTurbines) == nrow(windTurbines) \"Available time dictionary should have same length as input data\"\n",
        "@assert length(dictScenarios) == nrow(scenarios) \"Scenario dictionary should have same length as input data\"\n",
        "\n",
        "# Check that all values are positive\n",
        "@assert all(v -> all(x -> x >= 0, [v.min, v.max, v.fixed_cost, v.variable_cost]), values(dictThermalGeneartors)) \"All thermal generator values must be positive\"\n",
        "@assert all(v -> v.variable_cost >= 0, values(dictWindTurbines)) \"All wind turbine values must be positive\"\n",
        "@assert all(v -> all(x -> x >= 0, [v.wind_forecast, v.demand_forecast]), values(dictScenarios)) \"All scenario values must be positive\"\n",
        "\n",
        "# Check that dictionaries contain all expected keys\n",
        "@assert all(p -> haskey(dictThermalGeneartors, p), generators.name) \"Missing names in dictionary\"\n",
        "@assert all(b -> haskey(dictWindTurbines, b), windTurbines.name) \"Missing names in dictionary\"\n",
        "@assert all(b -> haskey(dictScenarios, b), scenarios.name) \"Missing names in dictionary\""
      ],
      "id": "16"
    },
    {
      "cell_type": "markdown",
      "metadata": {},
      "source": [
        "Next, we define the model instance for the ED problem."
      ],
      "id": "f7ea8d81-4007-4e0a-9d0d-3bee103d4018"
    },
    {
      "cell_type": "code",
      "execution_count": 0,
      "metadata": {},
      "outputs": [],
      "source": [
        "# Prepare the model instance\n",
        "dispatchModel = Model(HiGHS.Optimizer)\n"
      ],
      "id": "18"
    },
    {
      "cell_type": "markdown",
      "metadata": {},
      "source": [
        "Now, create your variables. Please name them `p_g` for the power output\n",
        "of generators, `p_w` for the power injection of wind turbines.\n",
        "\n",
        "> **Note**\n",
        ">\n",
        "> Consider the bounds for these variables. First, we only want to solve\n",
        "> the model for sceanrio “S1”."
      ],
      "id": "5e1ce52e-56fb-4a08-ac6c-f841abbc9d26"
    },
    {
      "cell_type": "code",
      "execution_count": 0,
      "metadata": {},
      "outputs": [],
      "source": [
        "# YOUR CODE BELOW\n",
        "\n"
      ],
      "id": "20"
    },
    {
      "cell_type": "code",
      "execution_count": 0,
      "metadata": {},
      "outputs": [],
      "source": [
        "# Validate your solution\n",
        "# Check variable dimensions\n",
        "@assert length(p_g) == length(dictThermalGeneartors) \"Incorrect dimensions for p_g\"\n",
        "@assert length(p_w) == length(dictWindTurbines) \"Incorrect dimensions for p_w\"\n",
        "\n",
        "# Check variable types\n",
        "@assert all(x -> is_valid(dispatchModel, x), p_g) \"p_g must be valid variables\"\n",
        "@assert all(x -> is_valid(dispatchModel, x), p_w) \"p_w must be valid variables\""
      ],
      "id": "22"
    },
    {
      "cell_type": "markdown",
      "metadata": {},
      "source": [
        "Next, define the objective function."
      ],
      "id": "6b6129e9-a235-4d14-b8c2-50daf0c8a7d9"
    },
    {
      "cell_type": "code",
      "execution_count": 0,
      "metadata": {},
      "outputs": [],
      "source": [
        "# YOUR CODE BELOW\n",
        "\n"
      ],
      "id": "24"
    },
    {
      "cell_type": "code",
      "execution_count": 0,
      "metadata": {},
      "outputs": [],
      "source": [
        "# Validate your solution\n",
        "# Check if the model has an objective\n",
        "@assert objective_function(dispatchModel) !== nothing \"Model must have an objective function\"\n",
        "\n",
        "# Check if it's a minimization problem\n",
        "@assert objective_sense(dispatchModel) == MOI.MIN_SENSE \"Objective should be minimization\"\n",
        "\n",
        "# Check if the objective function contains both cost components\n",
        "obj_expr = objective_function(dispatchModel)\n",
        "@assert contains(string(dispatchModel), \"p_g\") \"Objective must include variable costs (p_g)\"\n",
        "@assert contains(string(dispatchModel), \"p_w\") \"Objective must include variable costs (p_w)\""
      ],
      "id": "26"
    },
    {
      "cell_type": "markdown",
      "metadata": {},
      "source": [
        "Now, we need to define all necessary constraints for the model, which is\n",
        "only the demand/production balance constraint as we considered min and\n",
        "max power limitations in the variable setup."
      ],
      "id": "c5d58f12-2cf3-47ee-a121-f82e3fe607a3"
    },
    {
      "cell_type": "code",
      "execution_count": 0,
      "metadata": {},
      "outputs": [],
      "source": [
        "# YOUR CODE BELOW\n",
        "\n"
      ],
      "id": "28"
    },
    {
      "cell_type": "markdown",
      "metadata": {},
      "source": [
        "Finally, implement the solve statement for your model instance and print\n",
        "the results."
      ],
      "id": "bfac3894-9aa8-41b5-bd77-d4ad04591d51"
    },
    {
      "cell_type": "code",
      "execution_count": 0,
      "metadata": {},
      "outputs": [],
      "source": [
        "# YOUR CODE BELOW\n",
        "\n"
      ],
      "id": "30"
    },
    {
      "cell_type": "code",
      "execution_count": 0,
      "metadata": {},
      "outputs": [],
      "source": [
        "# Validate your solution\n",
        "@assert objective_value(dispatchModel) == 76600 \"Objective value should be 76600\""
      ],
      "id": "32"
    },
    {
      "cell_type": "markdown",
      "metadata": {},
      "source": [
        "# 2. Solving scenarios of the ED problem\n",
        "\n",
        "We now want to solve all sceanrios. To do so we wrap the model in a\n",
        "function that we then can call with different inputs.\n",
        "\n",
        "> **Note**\n",
        ">\n",
        "> Copy your model into the function. The results should be stored in the\n",
        "> dataframe."
      ],
      "id": "ff2cce9e-b664-4de6-b907-5dea0f1fc1c9"
    },
    {
      "cell_type": "code",
      "execution_count": 0,
      "metadata": {},
      "outputs": [],
      "source": [
        "# Create a function `solve_economic_dispatch`, which solves the economic\n",
        "# dispatch problem for a given set of input parameters.\n",
        "\n",
        "function solve_economic_dispatch(dictThermalGeneartors::Dict, dictWindTurbines::Dict, scenario)\n",
        "    ## Define the economic dispatch (ED) model\n",
        "    dispatchModel = Model(HiGHS.Optimizer)\n",
        "    set_silent(dispatchModel)\n",
        "    ## Define decision variables\n",
        "    ## p_g power output of generators\n",
        "    # YOUR CODE BELOW\n",
        "    \n",
        "    ## p_w wind power injection\n",
        "    # YOUR CODE BELOW\n",
        "\n",
        "    ## Define the objective function\n",
        "    # YOUR CODE BELOW\n",
        "  \n",
        "    ## Define the power balance constraint\n",
        "    # YOUR CODE BELOW\n",
        "    \n",
        "    ## Solve statement\n",
        "    optimize!(dispatchModel)\n",
        "    assert_is_solved_and_feasible(dispatchModel)\n",
        "\n",
        "    ## return the optimal value of the objective function and variables\n",
        "    return (\n",
        "        p_g = value.(p_g),\n",
        "        p_w = value.(p_w),\n",
        "        wind_curtailment = scenario.wind_forecast - sum(value.(p_w)),\n",
        "        total_cost = objective_value(dispatchModel),\n",
        "    )\n",
        "end\n",
        "\n",
        "# Create a dataframe to store results\n",
        "results_df = DataFrame(\n",
        "    scenario = String[],\n",
        "    total_cost = Float64[],\n",
        "    wind_curtailment = Float64[]\n",
        ")\n",
        "\n",
        "# Loop over the scenarios and save the results to a dataframe\n",
        "for (scenario_name, scenario_data) in dictScenarios\n",
        "    solution = solve_economic_dispatch(dictThermalGeneartors, dictWindTurbines, scenario_data)\n",
        "    push!(results_df, (scenario_name, solution.total_cost, solution.wind_curtailment))\n",
        "end\n",
        "\n",
        "# Print the dataframe\n",
        "println(\"\\nResults for all scenarios:\")\n",
        "println(results_df)"
      ],
      "id": "34"
    },
    {
      "cell_type": "markdown",
      "metadata": {},
      "source": [
        "What is the problem in scenario “S5” with the assumptions made in the ED\n",
        "problem leading to an inefficient usage of wind turbines?"
      ],
      "id": "90b5e078-8516-4d8e-993d-c947a83a13cd"
    },
    {
      "cell_type": "code",
      "execution_count": 0,
      "metadata": {},
      "outputs": [],
      "source": [
        "# YOUR ANSWER HERE\n"
      ],
      "id": "36"
    },
    {
      "cell_type": "markdown",
      "metadata": {},
      "source": [
        "------------------------------------------------------------------------\n",
        "\n",
        "# Solutions\n",
        "\n",
        "You will likely find solutions to most exercises online. However, I\n",
        "strongly encourage you to work on these exercises independently without\n",
        "searching explicitly for the exact answers to the exercises.\n",
        "Understanding someone else’s solution is very different from developing\n",
        "your own. Use the lecture notes and try to solve the exercises on your\n",
        "own. This approach will significantly enhance your learning and\n",
        "problem-solving skills.\n",
        "\n",
        "Remember, the goal is not just to complete the exercises, but to\n",
        "understand the concepts and improve your programming abilities. If you\n",
        "encounter difficulties, review the lecture materials, experiment with\n",
        "different approaches, and don’t hesitate to ask for clarification during\n",
        "class discussions.\n",
        "\n",
        "Later, you will find the solutions to these exercises online in the\n",
        "associated GitHub repository, but we will also quickly go over them in\n",
        "next week’s tutorial. To access the solutions, click on the Github\n",
        "button on the lower right and search for the folder with today’s lecture\n",
        "and tutorial. Alternatively, you can ask ChatGPT or Claude to explain\n",
        "them to you. But please remember, the goal is not just to complete the\n",
        "exercises, but to understand the concepts and improve your programming\n",
        "abilities."
      ],
      "id": "85ee9209-49f0-4350-ab58-8ce7263d356c"
    }
  ],
  "nbformat": 4,
  "nbformat_minor": 5,
  "metadata": {
    "kernel_info": {
      "name": "julia"
    },
    "kernelspec": {
      "name": "julia",
      "display_name": "Julia",
      "language": "julia"
    },
    "language_info": {
      "name": "julia",
      "codemirror_mode": "julia",
      "version": "1.11.5"
    }
  }
}