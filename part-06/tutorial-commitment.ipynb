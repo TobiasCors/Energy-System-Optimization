{
  "cells": [
    {
      "cell_type": "markdown",
      "metadata": {},
      "source": [
        "# Tutorial VI - Unit Commitment Problem\n",
        "\n",
        "Energy System Optimization with Julia\n",
        "\n",
        "# 1. Modelling the Unit Commitment Problem\n",
        "\n",
        "Implement the Unit Commitment problem from the lecture in Julia. Before\n",
        "we start, let’s load the necessary packages and data."
      ],
      "id": "957035da-a405-4fac-8fb9-d78ade3f3d7b"
    },
    {
      "cell_type": "code",
      "execution_count": 1,
      "metadata": {},
      "outputs": [],
      "source": [
        "using JuMP, HiGHS\n",
        "using CSV\n",
        "using DataFrames\n",
        "using Plots\n",
        "using Dates"
      ],
      "id": "4"
    },
    {
      "cell_type": "markdown",
      "metadata": {},
      "source": [
        "Now, let’s load the data. The generator data includes additional\n",
        "parameters for UC, and the scenario data now includes timestamps and\n",
        "hourly values."
      ],
      "id": "72141e6e-ff4c-4872-84ce-c5bbe8d17019"
    },
    {
      "cell_type": "code",
      "execution_count": 1,
      "metadata": {},
      "outputs": [],
      "source": [
        "# Get the directory of the current file\n",
        "file_directory = \"$(@__DIR__)/data\"\n",
        "\n",
        "# Load the data of the thermal generators\n",
        "generators = CSV.read(\"$file_directory/generator.csv\", DataFrame)\n",
        "println(\"Number of generators: $(nrow(generators))\")\n",
        "println(\"First 5 rows of available generators:\")\n",
        "println(generators[1:5, :])"
      ],
      "id": "6"
    },
    {
      "cell_type": "code",
      "execution_count": 1,
      "metadata": {},
      "outputs": [],
      "source": [
        "# Load the data of the wind turbines\n",
        "windTurbines = CSV.read(\"$file_directory/windTurbine.csv\", DataFrame)\n",
        "println(\"Number of wind turbines: $(nrow(windTurbines))\")\n",
        "println(\"Variable cost per wind turbine:\")\n",
        "println(windTurbines)"
      ],
      "id": "8"
    },
    {
      "cell_type": "code",
      "execution_count": 1,
      "metadata": {},
      "outputs": [],
      "source": [
        "# Load the scenario data about the demand and wind forecast\n",
        "scenarios = CSV.read(\"$file_directory/scenario.csv\", DataFrame)\n",
        "println(\"First 5 rows of scenarios:\")\n",
        "println(scenarios[1:5, :])\n",
        "println(\"Loaded scenarios:\")\n",
        "println(Vector{String}(unique(scenarios.scenario)))"
      ],
      "id": "10"
    },
    {
      "cell_type": "markdown",
      "metadata": {},
      "source": [
        "Next, prepare the data structures for the model. We’ll create\n",
        "NamedTuples for generators, wind turbines, and scenarios:"
      ],
      "id": "269c5b32-3411-4bb9-8c5e-1a662649b071"
    },
    {
      "cell_type": "code",
      "execution_count": 0,
      "metadata": {},
      "outputs": [],
      "source": [
        "# This function creates the Named Tuple ThermalGenerator\n",
        "# It stores all parameters needed for a thermal generator in the UC problem:\n",
        "# - min/max: minimum and maximum power output\n",
        "# - fixed_cost: cost per hour when the generator is running\n",
        "# - variable_cost: cost per MWh of power produced\n",
        "# - min_up_time: minimum number of hours the generator must stay on once started\n",
        "# - min_down_time: minimum number of hours the generator must stay off once shut down\n",
        "# - ramp_up/down: maximum power change between consecutive hours\n",
        "# - startup_cost: one-time cost when starting the generator\n",
        "function ThermalGenerator(\n",
        "    min::Int64,\n",
        "    max::Int64,\n",
        "    fixed_cost::Int64,\n",
        "    variable_cost::Int64,\n",
        "    min_up_time::Int64,\n",
        "    min_down_time::Int64,\n",
        "    ramp_up::Int64,\n",
        "    ramp_down::Int64,\n",
        "    startup_cost::Int64\n",
        ")\n",
        "    return (\n",
        "        min = min,\n",
        "        max = max,\n",
        "        fixed_cost = fixed_cost,\n",
        "        variable_cost = variable_cost,\n",
        "        min_up_time = min_up_time,\n",
        "        min_down_time = min_down_time,\n",
        "        ramp_up = ramp_up,\n",
        "        ramp_down = ramp_down,\n",
        "        startup_cost = startup_cost\n",
        "    )\n",
        "end\n",
        "\n",
        "# Create dictionaries for the data\n",
        "# Each generator's parameters are stored in a NamedTuple for easy access\n",
        "dictThermalGenerators = Dict(row.name => ThermalGenerator(\n",
        "    row.min_power, row.max_power, row.fix_cost, row.variable_cost,\n",
        "    row.min_up_time, row.min_down_time, row.ramp_up, row.ramp_down,\n",
        "    row.startup_cost\n",
        ") for row in eachrow(generators))\n",
        "\n",
        "# Create dictionary for wind turbines\n",
        "# Wind turbines only have variable costs as they don't have startup/shutdown constraints\n",
        "dictWindTurbines = Dict(row.name => (variable_cost = row.variable_cost,) for row in eachrow(windTurbines))\n",
        "\n",
        "# Create dictionary for scenarios\n",
        "# Each scenario contains time series data for demand and wind forecasts\n",
        "date_format = dateformat\"yyyy-mm-dd HH:MM:SS\"\n",
        "dictScenarios = Dict()\n",
        "for scenario in unique(scenarios.scenario)\n",
        "    scenario_data = scenarios[scenarios.scenario .== scenario, :]\n",
        "    dictScenarios[scenario] = (\n",
        "        datetime = DateTime.(scenario_data.datetime, date_format),\n",
        "        demand_forecast = scenario_data.demand_forecast,\n",
        "        wind_forecast = scenario_data.wind_forecast\n",
        "    )\n",
        "end"
      ],
      "id": "12"
    },
    {
      "cell_type": "markdown",
      "metadata": {},
      "source": [
        "# 2. Implementing Startup Variables and Costs\n",
        "\n",
        "In the Unit Commitment problem, we need to track when generators are\n",
        "started up, as this incurs additional costs. This aspect was not covered\n",
        "in detail in the lecture, so let’s implement it here.\n",
        "\n",
        "## Task: Implement Startup Variables and Costs\n",
        "\n",
        "1.  We need to add a binary variable `v_g[g,t]` that equals 1 if\n",
        "    generator g is started up at time t, and 0 otherwise.\n",
        "2.  The startup cost should be included in the objective function.\n",
        "3.  We need to link the startup variable to the generator status\n",
        "    variable `u_g[g,t]`.\n",
        "\n",
        "The relationship between `v_g` and `u_g` is: If a generator is off at\n",
        "t-1 (`u_g[g,t-1] = 0`) and on at t (`u_g[g,t] = 1`), then it must have\n",
        "been started up (`v_g[g,t] = 1`).\n",
        "\n",
        "How can this be expressed?"
      ],
      "id": "a95748de-ccd6-4507-8bd8-7642835b347d"
    },
    {
      "cell_type": "code",
      "execution_count": 0,
      "metadata": {},
      "outputs": [],
      "source": [
        "## YOUR ANSWER HERE\n",
        "\n"
      ],
      "id": "14"
    },
    {
      "cell_type": "markdown",
      "metadata": {},
      "source": [
        "Now, let’s implement the Unit Commitment model in a function:"
      ],
      "id": "90e4b045-3e06-4e53-b758-98df9fc5dd72"
    },
    {
      "cell_type": "code",
      "execution_count": 0,
      "metadata": {},
      "outputs": [],
      "source": [
        "function solve_unit_commitment(dictThermalGenerators::Dict, dictWindTurbines::Dict, scenario)\n",
        "    # Create the model\n",
        "    model = Model(HiGHS.Optimizer)\n",
        "    set_silent(model)\n",
        "    \n",
        "    # Define the time periods and sets\n",
        "    T = 1:length(scenario.datetime)  # Time periods (hours)\n",
        "    G = keys(dictThermalGenerators)  # Set of thermal generators\n",
        "    W = keys(dictWindTurbines)       # Set of wind turbines\n",
        "    \n",
        "    # Define variables\n",
        "    @variable(model, p_g[g in G, t in T] >= 0)  # Power output of generators [MW]\n",
        "    @variable(model, p_w[w in W, t in T] >= 0)  # Power output of wind turbines [MW]\n",
        "    @variable(model, u_g[g in G, t in T], Bin)  # Binary variable for generator status (1=on, 0=off)\n",
        "    @variable(model, v_g[g in G, t in T], Bin)  # Binary variable for startup (1=startup, 0=no startup)\n",
        "    \n",
        "    # Objective function: Minimize total costs\n",
        "    # Costs include:\n",
        "    # 1. Variable costs for power production\n",
        "    # 2. Fixed costs when generator is running\n",
        "    # 3. Startup costs when generator is started\n",
        "    # 4. Variable costs for wind power\n",
        "    ## YOUR CODE HERE\n",
        "\n",
        "    \n",
        "    # Power balance constraint: Total generation must equal demand\n",
        "    ## YOUR CODE HERE\n",
        "\n",
        "    \n",
        "    # Generator limits: Power output must be within min/max when running\n",
        "    ## YOUR CODE HERE\n",
        "\n",
        "    \n",
        "    # Wind limits: Wind power cannot exceed forecast\n",
        "    ## YOUR CODE HERE\n",
        "\n",
        "    \n",
        "    # Minimum up time: Generator must stay on for minimum duration after startup\n",
        "    ## Tip: Use the startup variable v_g to enforce the minimum up time\n",
        "    ## YOUR CODE HERE\n",
        "\n",
        "    \n",
        "    # Minimum down time: Generator must stay off for minimum duration after shutdown\n",
        "    ## Tip: Use the startup variable v_g to enforce the minimum down time\n",
        "    ## YOUR CODE HERE\n",
        "\n",
        "    \n",
        "    # Ramp rate limits: Power change between consecutive hours is limited\n",
        "    ## YOUR CODE HERE\n",
        "\n",
        "    \n",
        "    # Startup variable definition: v_g[g,t] = 1 if generator g is started at time t\n",
        "    ## YOUR CODE HERE\n",
        "\n",
        "    \n",
        "    # Solve the model\n",
        "    optimize!(model)\n",
        "    \n",
        "    # Return results\n",
        "    return (\n",
        "        p_g = value.(p_g),      # Generator power output\n",
        "        p_w = value.(p_w),      # Wind power output\n",
        "        u_g = value.(u_g),      # Generator status\n",
        "        v_g = value.(v_g),      # Startup events\n",
        "        total_cost = objective_value(model)\n",
        "    )\n",
        "end"
      ],
      "id": "16"
    },
    {
      "cell_type": "markdown",
      "metadata": {},
      "source": [
        "## Now, let’s solve the model for all scenarios and store the results:"
      ],
      "id": "078926aa-165c-4ff9-bed0-edb3df3f12e3"
    },
    {
      "cell_type": "code",
      "execution_count": 0,
      "metadata": {},
      "outputs": [],
      "source": [
        "# Create a dataframe to store results\n",
        "results_df = DataFrame(\n",
        "    scenario = String[],            # Scenario identifier\n",
        "    datetime = DateTime[],          # Timestamp\n",
        "    total_cost = Float64[],         # Total system cost\n",
        "    wind_curtailment = Float64[],   # Curtailed wind power\n",
        "    thermal_generation = Float64[], # Total thermal generation\n",
        "    wind_generation = Float64[]     # Total wind generation\n",
        ")\n",
        "\n",
        "# Loop over scenarios\n",
        "for (scenario_name, scenario_data) in dictScenarios\n",
        "    solution = solve_unit_commitment(dictThermalGenerators, dictWindTurbines, scenario_data)\n",
        "    \n",
        "    # Store results for each time period\n",
        "    for t in 1:length(scenario_data.datetime)\n",
        "        push!(results_df, (\n",
        "            scenario_name,\n",
        "            scenario_data.datetime[t],\n",
        "            solution.total_cost,\n",
        "            sum(scenario_data.wind_forecast[t] - solution.p_w[w,t] for w in keys(dictWindTurbines)),\n",
        "            sum(solution.p_g[g,t] for g in keys(dictThermalGenerators)),\n",
        "            sum(solution.p_w[w,t] for w in keys(dictWindTurbines))\n",
        "        ))\n",
        "    end\n",
        "end"
      ],
      "id": "18"
    },
    {
      "cell_type": "markdown",
      "metadata": {},
      "source": [
        "## Finally, let’s plot the results:\n",
        "\n",
        "We only have one scenario, so we can plot the results for that scenario\n",
        "like this:"
      ],
      "id": "12be615c-481b-41d4-aeeb-88150a7f2519"
    },
    {
      "cell_type": "code",
      "execution_count": 0,
      "metadata": {},
      "outputs": [],
      "source": [
        "# Format datetime to show only hours\n",
        "hours = hour.(results_df.datetime)\n",
        "\n",
        "# Plot generation over time\n",
        "plot(hours, results_df.thermal_generation, \n",
        "    label=\"Thermal Generation\", xlabel=\"Time\", ylabel=\"Power [MW]\")\n",
        "plot!(hours, results_df.wind_generation, \n",
        "    label=\"Wind Generation\")\n",
        "plot!(hours, results_df.wind_curtailment, \n",
        "    label=\"Wind Curtailment\")\n",
        "title!(\"Generation Profile\")\n"
      ],
      "id": "20"
    },
    {
      "cell_type": "markdown",
      "metadata": {},
      "source": [
        "## Assert the correct objective value"
      ],
      "id": "49c35755-5b56-4f72-8ff5-3b06031df2ad"
    },
    {
      "cell_type": "code",
      "execution_count": 0,
      "metadata": {},
      "outputs": [],
      "source": [
        "# Test your answer\n",
        "# Assert the correct objective value\n",
        "result_cost = results_df[results_df.scenario .== \"S1\", :total_cost][1]\n",
        "@assert isapprox(result_cost, 1.1446e6; atol=1e4) \"Objective value from results_df is not correct. Check your implementation.\"\n",
        "println(\"Test passed: The objective value from results_df is correct!\")"
      ],
      "id": "22"
    },
    {
      "cell_type": "markdown",
      "metadata": {},
      "source": [
        "------------------------------------------------------------------------\n",
        "\n",
        "# Solutions\n",
        "\n",
        "You will likely find solutions to most exercises online. However, I\n",
        "strongly encourage you to work on these exercises independently without\n",
        "searching explicitly for the exact answers to the exercises.\n",
        "Understanding someone else’s solution is very different from developing\n",
        "your own. Use the lecture notes and try to solve the exercises on your\n",
        "own. This approach will significantly enhance your learning and\n",
        "problem-solving skills.\n",
        "\n",
        "Remember, the goal is not just to complete the exercises, but to\n",
        "understand the concepts and improve your programming abilities. If you\n",
        "encounter difficulties, review the lecture materials, experiment with\n",
        "different approaches, and don’t hesitate to ask for clarification during\n",
        "class discussions.\n",
        "\n",
        "Later, you will find the solutions to these exercises online in the\n",
        "associated GitHub repository, but we will also quickly go over them in\n",
        "next week’s tutorial. To access the solutions, click on the Github\n",
        "button on the lower right and search for the folder with today’s lecture\n",
        "and tutorial. Alternatively, you can ask ChatGPT or Claude to explain\n",
        "them to you. But please remember, the goal is not just to complete the\n",
        "exercises, but to understand the concepts and improve your programming\n",
        "abilities."
      ],
      "id": "8cdf432d-ce13-448e-a0c2-264f73213af8"
    }
  ],
  "nbformat": 4,
  "nbformat_minor": 5,
  "metadata": {
    "kernel_info": {
      "name": "julia"
    },
    "kernelspec": {
      "name": "julia",
      "display_name": "Julia",
      "language": "julia"
    },
    "language_info": {
      "name": "julia",
      "codemirror_mode": "julia",
      "version": "1.11.5"
    }
  }
}