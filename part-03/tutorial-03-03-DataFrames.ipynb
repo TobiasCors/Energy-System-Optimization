{
  "cells": [
    {
      "cell_type": "markdown",
      "metadata": {},
      "source": [
        "# Tutorial III.III - DataFrames in Julia\n",
        "\n",
        "Energy System Optimization with Julia\n",
        "\n",
        "# Introduction\n",
        "\n",
        "Imagine a DataFrame as a digital spreadsheet. It’s a way to organize and\n",
        "work with data in rows and columns. Each column can hold different types\n",
        "of information, like names, ages, or salaries. In this tutorial, we’ll\n",
        "learn how to create DataFrames, add and change data, and perform simple\n",
        "operations on our data.\n",
        "\n",
        "> **Note**\n",
        ">\n",
        "> Before we start, make sure you have the DataFrames package installed.\n",
        "> If you’re not sure how to do this, check the previous tutorial on\n",
        "> package management!\n",
        "\n",
        "Let’s begin by importing the DataFrames package:"
      ],
      "id": "9c57da1a-81c9-43fd-b960-1b1c97882c6a"
    },
    {
      "cell_type": "code",
      "execution_count": 1,
      "metadata": {},
      "outputs": [],
      "source": [
        "# Import the DataFrames package\n",
        "using DataFrames"
      ],
      "id": "4"
    },
    {
      "cell_type": "markdown",
      "metadata": {},
      "source": [
        "# Section 1 - Creating DataFrames\n",
        "\n",
        "A DataFrame in Julia is akin to a table in SQL or a spreadsheet - each\n",
        "column can have its own type, making it highly versatile. A DataFrame\n",
        "can be created using the DataFrame constructor and passing key-value\n",
        "pairs where the key is the column name and the value is an array of\n",
        "data. For more help, use `?` in the REPL and type `DataFrame`. Example:"
      ],
      "id": "ca86aa05-aaaf-471a-aebb-edd3e7c29e2e"
    },
    {
      "cell_type": "code",
      "execution_count": 1,
      "metadata": {},
      "outputs": [
        {
          "output_type": "display_data",
          "metadata": {},
          "data": {
            "text/html": [
              "</div>"
            ]
          }
        }
      ],
      "source": [
        "students = DataFrame(\n",
        "    Name = [\"Elio\", \"Bob\", \"Yola\"], \n",
        "    Age = [18, 25,29], \n",
        ")"
      ],
      "id": "6"
    },
    {
      "cell_type": "markdown",
      "metadata": {},
      "source": [
        "## Exercise 1.1 - Create a DataFrame\n",
        "\n",
        "Create and Test a DataFrame. Create a DataFrame named `employees` with\n",
        "the columns `Name`, `Age`, and `Salary`, and populate it with the\n",
        "specified data: John is `28` years old and earns `50000`, Mike is `23`\n",
        "years old and earns `62000`. Frank is `37` years old and earns `90000`."
      ],
      "id": "b11cf1f9-4a8a-433d-8374-ddcc5dd91909"
    },
    {
      "cell_type": "code",
      "execution_count": 0,
      "metadata": {},
      "outputs": [],
      "source": [
        "# YOUR CODE BELOW\n"
      ],
      "id": "8"
    },
    {
      "cell_type": "code",
      "execution_count": 0,
      "metadata": {},
      "outputs": [],
      "source": [
        "# Test your answer\n",
        "@assert employees == DataFrame(\n",
        "    Name = [\"John\", \"Mike\", \"Frank\"], \n",
        "    Age = [28, 23, 37], \n",
        "    Salary = [50000, 62000, 90000]\n",
        ")\n",
        "println(\"DataFrame created successfully!\")\n",
        "println(employees)"
      ],
      "id": "10"
    },
    {
      "cell_type": "markdown",
      "metadata": {},
      "source": [
        "> **Tip**\n",
        ">\n",
        "> Remember, for more help, use `?` in the REPL and type `DataFrame`.\n",
        "\n",
        "# Section 2 - Accessing and Modifying Data\n",
        "\n",
        "Accessing columns in a DataFrame can be done using the dot syntax, while\n",
        "rows can be accessed via indexing. Modification of data is\n",
        "straightforward; just assign a new value to the desired cell. To access\n",
        "the column ‘name’ in our DataFrame with `employees`, we could do:"
      ],
      "id": "c434acbb-be53-4cd8-adfd-16b559a89bf5"
    },
    {
      "cell_type": "code",
      "execution_count": 1,
      "metadata": {},
      "outputs": [
        {
          "output_type": "display_data",
          "metadata": {},
          "data": {
            "text/plain": [
              "3-element Vector{String}:\n",
              " \"John\"\n",
              " \"Mike\"\n",
              " \"Frank\""
            ]
          }
        }
      ],
      "source": [
        "employees.Name"
      ],
      "id": "14"
    },
    {
      "cell_type": "markdown",
      "metadata": {},
      "source": [
        "To access the third name specifically, we could do:"
      ],
      "id": "7fb7e829-b4bd-49c7-a412-ab1635e7b53c"
    },
    {
      "cell_type": "code",
      "execution_count": 1,
      "metadata": {},
      "outputs": [
        {
          "output_type": "display_data",
          "metadata": {},
          "data": {
            "text/plain": [
              "\"Frank\""
            ]
          }
        }
      ],
      "source": [
        "employees.Name[3]"
      ],
      "id": "16"
    },
    {
      "cell_type": "markdown",
      "metadata": {},
      "source": [
        "## Exercise 2.1 - Access the `Age` Column\n",
        "\n",
        "Access the `Age` column from the DataFrame and save it in a new variable\n",
        "`ages`."
      ],
      "id": "72a0d0e8-5542-4d19-9d00-bdc8c976a6d7"
    },
    {
      "cell_type": "code",
      "execution_count": 0,
      "metadata": {},
      "outputs": [],
      "source": [
        "# YOUR CODE BELOW\n"
      ],
      "id": "18"
    },
    {
      "cell_type": "code",
      "execution_count": 0,
      "metadata": {},
      "outputs": [],
      "source": [
        "# Test your answer\n",
        "@assert ages == [28, 23, 37]\n",
        "println(\"Correct, the Ages column is: \", ages)"
      ],
      "id": "20"
    },
    {
      "cell_type": "markdown",
      "metadata": {},
      "source": [
        "## Exercise 2.2 - Update John’s Salary\n",
        "\n",
        "Update John’s salary to `59000`."
      ],
      "id": "66722d00-d6a9-4a22-8aa7-e96ac2c58e0b"
    },
    {
      "cell_type": "code",
      "execution_count": 0,
      "metadata": {},
      "outputs": [],
      "source": [
        "# YOUR CODE BELOW\n"
      ],
      "id": "22"
    },
    {
      "cell_type": "code",
      "execution_count": 0,
      "metadata": {},
      "outputs": [],
      "source": [
        "# Test your answer\n",
        "@assert employees.Salary[1] == 59000\n",
        "println(\"Modified DataFrame: \")\n",
        "println(employees)"
      ],
      "id": "24"
    },
    {
      "cell_type": "markdown",
      "metadata": {},
      "source": [
        "# Section 3 - Filtering Data\n",
        "\n",
        "Logical indexing can be used to filter rows in a DataFrame based on\n",
        "conditions. To filter the DataFrame to include only employees names\n",
        "“Frank” we could do:"
      ],
      "id": "d5abe629-b324-4d16-9389-38603520d420"
    },
    {
      "cell_type": "code",
      "execution_count": 1,
      "metadata": {},
      "outputs": [
        {
          "output_type": "display_data",
          "metadata": {},
          "data": {
            "text/html": [
              "</div>"
            ]
          }
        }
      ],
      "source": [
        "allFranks = employees[employees.Name .== \"Frank\", :]"
      ],
      "id": "26"
    },
    {
      "cell_type": "markdown",
      "metadata": {},
      "source": [
        "Alternatively, the filter function provides a powerful tool to extract\n",
        "subsets of data based on a condition:"
      ],
      "id": "d21d4033-9cc3-43ca-b4df-52a9b4fa4177"
    },
    {
      "cell_type": "code",
      "execution_count": 1,
      "metadata": {},
      "outputs": [
        {
          "output_type": "display_data",
          "metadata": {},
          "data": {
            "text/html": [
              "</div>"
            ]
          }
        }
      ],
      "source": [
        "allFranks = filter(row -> row.Name == \"Frank\", employees)"
      ],
      "id": "28"
    },
    {
      "cell_type": "markdown",
      "metadata": {},
      "source": [
        "## Exercise 3.1 - Filter the DataFrame\n",
        "\n",
        "Filter the DataFrame to include only employees with salaries above\n",
        "`60000`. Save the resulting employees in the DataFrame `high_earners`."
      ],
      "id": "f890b1f6-0816-4a32-9151-67a71b073502"
    },
    {
      "cell_type": "code",
      "execution_count": 0,
      "metadata": {},
      "outputs": [],
      "source": [
        "# YOUR CODE BELOW\n"
      ],
      "id": "30"
    },
    {
      "cell_type": "code",
      "execution_count": 0,
      "metadata": {},
      "outputs": [],
      "source": [
        "# Test your answer\n",
        "@assert nrow(high_earners) == 2\n",
        "println(\"High earners: \")\n",
        "println(high_earners)"
      ],
      "id": "32"
    },
    {
      "cell_type": "markdown",
      "metadata": {},
      "source": [
        "# Section 4 - Basic Data Manipulation\n",
        "\n",
        "Julia provides functions for basic data manipulation tasks, including\n",
        "sorting, grouping, and joining DataFrames. The `sort` function can be\n",
        "used to order the rows in a DataFrame based on the values in one or more\n",
        "columns. To see how to use the function, type `?` into the REPL\n",
        "(terminal) and type `sort`.\n",
        "\n",
        "## Exercise 4.1 - Sort the DataFrame\n",
        "\n",
        "Sort the DataFrame based on the `Age` column and save it as `sorted_df`."
      ],
      "id": "58964568-dcbf-48a0-a751-89ad4ffb243b"
    },
    {
      "cell_type": "code",
      "execution_count": 0,
      "metadata": {},
      "outputs": [],
      "source": [
        "# YOUR CODE BELOW\n"
      ],
      "id": "34"
    },
    {
      "cell_type": "code",
      "execution_count": 0,
      "metadata": {},
      "outputs": [],
      "source": [
        "# Test your answer\n",
        "@assert sorted_df.Age[1] == 23\n",
        "println(\"DataFrame sorted by age: \")\n",
        "println(sorted_df)"
      ],
      "id": "36"
    },
    {
      "cell_type": "markdown",
      "metadata": {},
      "source": [
        "> **Tip**\n",
        ">\n",
        "> If you have more complicated data structures, take a look at JSON\n",
        "> files which can be used to work with all kind of differently\n",
        "> structured data sets.\n",
        "\n",
        "# Section 5 - Loop over DataFrames\n",
        "\n",
        "Sometimes, you might need to iterate over the rows of a DataFrame to\n",
        "perform operations on each row individually. Julia provides a convenient\n",
        "way to do this using the `eachrow` function. For example, if we want to\n",
        "check for each employee if they have a salary above 60000, we can do the\n",
        "following:"
      ],
      "id": "b5e2113c-9652-4cef-96b0-318b1b6b89ca"
    },
    {
      "cell_type": "code",
      "execution_count": 1,
      "metadata": {},
      "outputs": [
        {
          "output_type": "stream",
          "name": "stdout",
          "text": [
            "Mike earns more than 60000\n",
            "Frank earns more than 60000"
          ]
        }
      ],
      "source": [
        "for row in eachrow(employees)\n",
        "    if row.Salary > 60000\n",
        "        println(\"$(row.Name) earns more than 60000\")\n",
        "    end\n",
        "end"
      ],
      "id": "38"
    },
    {
      "cell_type": "markdown",
      "metadata": {},
      "source": [
        "Here, the `row` holds all the values of the row as a `NamedTuple`. We\n",
        "can access the values of a column then by using the dot syntax. To\n",
        "create a new column, we can use the `push!` function. For example, to\n",
        "create a new column called `VacationDays` in the `employees` DataFrame,\n",
        "we can do one of the following:"
      ],
      "id": "7ef2c66c-957c-42cd-9214-4850c06c7628"
    },
    {
      "cell_type": "code",
      "execution_count": 1,
      "metadata": {},
      "outputs": [
        {
          "output_type": "display_data",
          "metadata": {},
          "data": {
            "text/plain": [
              "3-element Vector{Int64}:\n",
              " 0\n",
              " 0\n",
              " 0"
            ]
          }
        }
      ],
      "source": [
        "employees.VacationDays = [0 for row in eachrow(employees)]\n",
        "employees.VacationDays .= 0"
      ],
      "id": "40"
    },
    {
      "cell_type": "markdown",
      "metadata": {},
      "source": [
        "## Exercise 5.1 - Loop over DataFrame\n",
        "\n",
        "Create a new column called `Bonus` in the `employees` DataFrame. The\n",
        "bonus should be calculated as 10% of the salary for employees over 30,\n",
        "and 5% for those 30 and under. Use a loop to iterate over the rows and\n",
        "calculate the bonus."
      ],
      "id": "acc612ba-779e-4028-97f9-3118ed1650ef"
    },
    {
      "cell_type": "code",
      "execution_count": 0,
      "metadata": {},
      "outputs": [],
      "source": [
        "# YOUR CODE BELOW\n"
      ],
      "id": "42"
    },
    {
      "cell_type": "code",
      "execution_count": 0,
      "metadata": {},
      "outputs": [],
      "source": [
        "# Test your answer\n",
        "@assert filter(\n",
        "    row -> row.Bonus == 2950, \n",
        "    employees\n",
        ").Name == [\"John\"] \"John should have a bonus of 2950\"\n",
        "@assert filter(\n",
        "    row -> row.Bonus == 3100, \n",
        "    employees\n",
        ").Name == [\"Mike\"] \"Mike should have a bonus of 3100\"\n",
        "@assert filter(\n",
        "    row -> row.Bonus == 9000, \n",
        "    employees\n",
        ").Name == [\"Frank\"] \"Frank should have a bonus of 9000\"\n",
        "println(\"Great job! All the bonuses are correct!\")"
      ],
      "id": "44"
    },
    {
      "cell_type": "markdown",
      "metadata": {},
      "source": [
        "# Section 6 - Filling a new DataFrame with values\n",
        "\n",
        "Do you remember the `push!` function? We can use it to fill a new\n",
        "DataFrame with values. For example, we can create a new DataFrame called\n",
        "`WorkingHours` and fill it with the values from the `employees`\n",
        "DataFrame. Imagine that the company has a policy, where employees above\n",
        "30 work 30 hours a week, and employees under 30 work 40 hours a week:"
      ],
      "id": "d2e2833f-fe51-4f34-a749-37f0402b5531"
    },
    {
      "cell_type": "code",
      "execution_count": 1,
      "metadata": {},
      "outputs": [],
      "source": [
        "# Create a new DataFrame\n",
        "WorkingHours = DataFrame(\n",
        "    Name = String[],\n",
        "    Hours = Int[]\n",
        ")\n",
        "# Loop over the rows of the employees DataFrame\n",
        "for row in eachrow(employees)\n",
        "    if row.Age < 30\n",
        "        push!(WorkingHours, (\n",
        "            Name = row.Name, \n",
        "            Hours = 40\n",
        "        ))\n",
        "    else\n",
        "        push!(WorkingHours, (\n",
        "            Name = row.Name, \n",
        "            Hours = 30\n",
        "        ))\n",
        "    end\n",
        "end\n",
        "println(WorkingHours)"
      ],
      "id": "46"
    },
    {
      "cell_type": "markdown",
      "metadata": {},
      "source": [
        "# Conclusion\n",
        "\n",
        "Fantastic work! You’ve completed the tutorial on DataFrames in Julia.\n",
        "You’ve seen how to create DataFrames and access, modify and filter data.\n",
        "Continue to the next file to learn more.\n",
        "\n",
        "# Solutions\n",
        "\n",
        "You will likely find solutions to most exercises online. However, I\n",
        "strongly encourage you to work on these exercises independently without\n",
        "searching explicitly for the exact answers to the exercises.\n",
        "Understanding someone else’s solution is very different from developing\n",
        "your own. Use the lecture notes and try to solve the exercises on your\n",
        "own. This approach will significantly enhance your learning and\n",
        "problem-solving skills.\n",
        "\n",
        "Remember, the goal is not just to complete the exercises, but to\n",
        "understand the concepts and improve your programming abilities. If you\n",
        "encounter difficulties, review the lecture materials, experiment with\n",
        "different approaches, and don’t hesitate to ask for clarification during\n",
        "class discussions.\n",
        "\n",
        "Later, you will find the solutions to these exercises online in the\n",
        "associated GitHub repository, but we will also quickly go over them in\n",
        "next week’s tutorial. To access the solutions, click on the Github\n",
        "button on the lower right and search for the folder with today’s lecture\n",
        "and tutorial. Alternatively, you can ask ChatGPT or Claude to explain\n",
        "them to you. But please remember, the goal is not just to complete the\n",
        "exercises, but to understand the concepts and improve your programming\n",
        "abilities."
      ],
      "id": "54ec9a87-0892-4291-bd3d-c6437aef0c18"
    }
  ],
  "nbformat": 4,
  "nbformat_minor": 5,
  "metadata": {
    "kernel_info": {
      "name": "julia"
    },
    "kernelspec": {
      "name": "julia",
      "display_name": "Julia",
      "language": "julia"
    },
    "language_info": {
      "name": "julia",
      "codemirror_mode": "julia",
      "version": "1.11.5"
    }
  }
}