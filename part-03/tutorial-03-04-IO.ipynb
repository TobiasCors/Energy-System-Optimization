{
  "cells": [
    {
      "cell_type": "markdown",
      "metadata": {},
      "source": [
        "# Tutorial III.IV - Input and Output\n",
        "\n",
        "Energy System Optimization with Julia\n",
        "\n",
        "# Introduction\n",
        "\n",
        "Welcome to this interactive Julia tutorial on working with external\n",
        "files! File Input/Output (I/O) operations are crucial in programming and\n",
        "data analysis, allowing us to persist data, share information between\n",
        "programs, and work with large datasets that don’t fit in memory. In this\n",
        "tutorial, we’ll cover reading and writing text files, handling CSV\n",
        "files, and working with delimited files using various Julia packages.\n",
        "These skills are fundamental for data preprocessing, analysis, and\n",
        "result storage in real-world applications.\n",
        "\n",
        "Follow the instructions, write your code in the designated code blocks,\n",
        "and validate your results with `@assert` statements.\n",
        "\n",
        "# Section 1 - Working with Delimited Files\n",
        "\n",
        "Delimited files, such as CSV (Comma-Separated Values), are a common way\n",
        "to store structured data. Each value in the file is separated by a\n",
        "specific character, often a comma. Julia’s DelimitedFiles package makes\n",
        "it easy to work with these files.\n",
        "\n",
        "> **Tip**\n",
        ">\n",
        "> The DelimitedFiles package is part of Julia’s Standard Library, which\n",
        "> means you can use it without installing anything extra!"
      ],
      "id": "f1b9c6ba-2c9f-4f6a-962f-e946cb90da9c"
    },
    {
      "cell_type": "code",
      "execution_count": 1,
      "metadata": {},
      "outputs": [],
      "source": [
        "using DelimitedFiles"
      ],
      "id": "2"
    },
    {
      "cell_type": "markdown",
      "metadata": {},
      "source": [
        "Now, let’s create a simple matrix and save it as a CSV file:"
      ],
      "id": "cff817ce-f35b-4fc1-a409-c3e16da205ad"
    },
    {
      "cell_type": "code",
      "execution_count": 0,
      "metadata": {},
      "outputs": [],
      "source": [
        "# Create a 3x3 matrix\n",
        "new_data = [10 12 6; 13 25 1; 40 30 7]\n",
        "\n",
        "# Create a new folder called \"ExampleData\"\n",
        "mkdir(\"$(@__DIR__)/ExampleData\")\n",
        "\n",
        "# Write the matrix to a CSV file\n",
        "open(\"$(@__DIR__)/ExampleData/matrix.csv\", \"w\") do io\n",
        "    writedlm(io, new_data, ',')\n",
        "end\n",
        "\n",
        "println(\"CSV file 'matrix.csv' written successfully to folder ExampleData!\")"
      ],
      "id": "4"
    },
    {
      "cell_type": "markdown",
      "metadata": {},
      "source": [
        "> **Note**\n",
        ">\n",
        "> Note that we used the `@__DIR__` macro to get the directory of the\n",
        "> current file. This is a convenient way to ensure that the file path is\n",
        "> correct, no matter where you run the script from. The reason is that\n",
        "> the `@__DIR__` macro returns the directory of the file in which the\n",
        "> macro is called, not the working directory of the script you are\n",
        "> running."
      ],
      "id": "edb263ab-6ea9-46df-90cb-031069b3825c"
    },
    {
      "cell_type": "raw",
      "metadata": {
        "raw_mimetype": "text/html"
      },
      "source": [
        "<!-- \n",
        "Example regarding the use of the `@__DIR__` macro: If you have this file structure (where `project/` is your current working directory):\n",
        "```\n",
        "    project/\n",
        "    ├── scripts/\n",
        "    │   └── analysis.jl\n",
        "    └── ExampleData/\n",
        "        └── matrix.csv\n",
        "```\n",
        "\n",
        "And your `analysis.jl` contains:\n",
        "```wqakgtu\n",
        "# This will always point to 'project/scripts', even if you run the script from elsewhere\n",
        "println(@__DIR__)\n",
        "\n",
        "# This will point to 'project' (the current working directory)\n",
        "println(pwd())\n",
        "\n",
        "# This is why using @__DIR__ makes your file paths more reliable as the working directory can change:\n",
        "matrix_file_path_good = joinpath(@__DIR__, \"..\", \"ExampleData\", \"matrix.csv\")  # Always works\n",
        "matrix_file_path_bad = \"ExampleData/matrix.csv\"  # Only works if run from project/ directory\n",
        "```\n",
        "\n",
        "Note: The file paths are stored as a string in the variables `matrix_file_path_good` and `matrix_file_path_bad`. These can be used as a file path in the function `open()`. The `joinpath()` function is an alternative to string interpolation. Remember from the first tutorial, in Julia, you can concatenate strings in several ways:\n",
        "\n",
        "- Using string interpolation: `\"$(@__DIR__)/ExampleData/matrix.csv\"`\n",
        "- Using the * operator: `@__DIR__ * \"/ExampleData/matrix.csv\"`\n",
        "- Using joinpath(): `joinpath(@__DIR__, \"ExampleData\", \"matrix.csv\")`\n",
        "\n",
        "The `\"..\"` in the path means \"go up one directory level\". So if `@__DIR__` is `project/scripts`, the path goes up to `project` before going into `ExampleData`. -->"
      ],
      "id": "617eba2a-a2c7-4a33-b928-176814351a1c"
    },
    {
      "cell_type": "markdown",
      "metadata": {},
      "source": [
        "## Exercise 1.1 - Read a CSV File\n",
        "\n",
        "Now it’s your turn! Let’s read the CSV file we just created.\n",
        "\n",
        "> **Tip**\n",
        ">\n",
        "> To learn how to use a Julia function, you can type `?` followed by the\n",
        "> function name in the REPL (Julia’s command-line interface). For\n",
        "> example, `?readdlm` will show you information about the `readdlm()`\n",
        "> function.\n",
        "\n",
        "Use the `readdlm()` function to read the ‘matrix.csv’ file we just\n",
        "created. Save the result in a variable called `read_matrix`."
      ],
      "id": "ac9bdfee-c7c3-4a9c-a806-229672147b06"
    },
    {
      "cell_type": "code",
      "execution_count": 0,
      "metadata": {},
      "outputs": [],
      "source": [
        "# YOUR CODE BELOW\n",
        "# Don't forget to use the @__DIR__ macro to get the correct file path!\n"
      ],
      "id": "6"
    },
    {
      "cell_type": "code",
      "execution_count": 0,
      "metadata": {},
      "outputs": [],
      "source": [
        "# Test your answer\n",
        "@assert read_matrix == new_data\n",
        "println(\"File 'matrix.csv' read successfully!\")"
      ],
      "id": "8"
    },
    {
      "cell_type": "markdown",
      "metadata": {},
      "source": [
        "# Section 2 - Working with CSV Files and DataFrames\n",
        "\n",
        "The CSV package in Julia provides powerful tools for reading and writing\n",
        "CSV files to and from DataFrames, a common requirement in data analysis\n",
        "and data science projects. This requires the CSV and DataFrames\n",
        "packages. If you solely followed the course so far, you first have to\n",
        "install the CSV Package before you can start using it:"
      ],
      "id": "3274a058-f222-4bec-972f-482d8c3396ce"
    },
    {
      "cell_type": "code",
      "execution_count": 0,
      "metadata": {},
      "outputs": [],
      "source": [
        "import Pkg; Pkg.add(\"CSV\")"
      ],
      "id": "10"
    },
    {
      "cell_type": "markdown",
      "metadata": {},
      "source": [
        "## Exercise 2.1 - Write a DataFrame to a CSV File\n",
        "\n",
        "Write the following given DataFrame to a CSV file `table_out.csv` in the\n",
        "folder `ExampleData`. This can be done by using the function\n",
        "`CSV.write()`. To learn the syntax, ask the inbuild help with `?` and\n",
        "the function name."
      ],
      "id": "13344f87-ce76-435b-96b9-815acf7999b7"
    },
    {
      "cell_type": "code",
      "execution_count": 0,
      "metadata": {},
      "outputs": [],
      "source": [
        "using CSV, DataFrames\n",
        "data = DataFrame(Name = [\"Elio\", \"Bob\", \"Yola\"], Age = [18, 25, 29])\n",
        "csv_file_path = \"$(@__DIR__)/ExampleData/table_out.csv\"\n",
        "# YOUR CODE BELOW\n"
      ],
      "id": "12"
    },
    {
      "cell_type": "code",
      "execution_count": 0,
      "metadata": {},
      "outputs": [],
      "source": [
        "# Test your answer\n",
        "@assert isfile(\"ExampleData/table_out.csv\") \"Sorry, the file could not be found. \n",
        "    Have you followed all steps?\"\n",
        "println(\"CSV file 'data.csv' written successfully!\")"
      ],
      "id": "14"
    },
    {
      "cell_type": "markdown",
      "metadata": {},
      "source": [
        "## Exercise 2.2 - Read a CSV File in\n",
        "\n",
        "Read the CSV file `table_out.csv` in the folder `ExampleData` into the\n",
        "variable `read_data`. Here you can use the function `CSV.read()`, e.g.:\n",
        "\n",
        "``` julia\n",
        "read_data = CSV.read(\"Path/datatable.csv\", DataFrame)\n",
        "```\n",
        "\n",
        "> **Note**\n",
        ">\n",
        "> Note, that you need to provide a sink for the data when using\n",
        "> `CSV.read()`, e.g. a DataFrame."
      ],
      "id": "a3e11395-b6ad-48b6-8ba4-29d1363bb47e"
    },
    {
      "cell_type": "code",
      "execution_count": 0,
      "metadata": {},
      "outputs": [],
      "source": [
        "# YOUR CODE BELOW\n",
        "# Again, don't forget to use the @__DIR__ macro to get the correct file path!\n"
      ],
      "id": "16"
    },
    {
      "cell_type": "code",
      "execution_count": 0,
      "metadata": {},
      "outputs": [],
      "source": [
        "# Test your answer\n",
        "@assert read_data[1,1] == \"Elio\"\n",
        "println(\"CSV file 'table_out.csv' read successfully!\")"
      ],
      "id": "18"
    },
    {
      "cell_type": "markdown",
      "metadata": {},
      "source": [
        "# Conclusion\n",
        "\n",
        "Congratulations! You’ve successfully completed the tutorial on reading\n",
        "and writing external files in Julia. Continue to the next file to learn\n",
        "more.\n",
        "\n",
        "# Solutions\n",
        "\n",
        "You will likely find solutions to most exercises online. However, I\n",
        "strongly encourage you to work on these exercises independently without\n",
        "searching explicitly for the exact answers to the exercises.\n",
        "Understanding someone else’s solution is very different from developing\n",
        "your own. Use the lecture notes and try to solve the exercises on your\n",
        "own. This approach will significantly enhance your learning and\n",
        "problem-solving skills.\n",
        "\n",
        "Remember, the goal is not just to complete the exercises, but to\n",
        "understand the concepts and improve your programming abilities. If you\n",
        "encounter difficulties, review the lecture materials, experiment with\n",
        "different approaches, and don’t hesitate to ask for clarification during\n",
        "class discussions.\n",
        "\n",
        "Later, you will find the solutions to these exercises online in the\n",
        "associated GitHub repository, but we will also quickly go over them in\n",
        "next week’s tutorial. To access the solutions, click on the Github\n",
        "button on the lower right and search for the folder with today’s lecture\n",
        "and tutorial. Alternatively, you can ask ChatGPT or Claude to explain\n",
        "them to you. But please remember, the goal is not just to complete the\n",
        "exercises, but to understand the concepts and improve your programming\n",
        "abilities."
      ],
      "id": "d52e1781-c382-4bf2-bde4-446287ae6905"
    }
  ],
  "nbformat": 4,
  "nbformat_minor": 5,
  "metadata": {
    "kernel_info": {
      "name": "julia"
    },
    "kernelspec": {
      "name": "julia",
      "display_name": "Julia",
      "language": "julia"
    },
    "language_info": {
      "name": "julia",
      "codemirror_mode": "julia",
      "version": "1.11.5"
    }
  }
}